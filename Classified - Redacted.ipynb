{
 "cells": [
  {
   "cell_type": "markdown",
   "metadata": {},
   "source": [
    "# 1. Install Dependencies and Setup"
   ]
  },
  {
   "cell_type": "code",
   "execution_count": 1,
   "metadata": {
    "collapsed": false,
    "ExecuteTime": {
     "end_time": "2024-01-10T04:50:37.827535100Z",
     "start_time": "2024-01-10T04:50:37.808142400Z"
    }
   },
   "outputs": [
    {
     "name": "stdout",
     "output_type": "stream",
     "text": [
      "Hello, world!\n"
     ]
    }
   ],
   "source": [
    "print(\"Hello, world!\")"
   ]
  },
  {
   "cell_type": "code",
   "execution_count": 2,
   "metadata": {
    "ExecuteTime": {
     "end_time": "2024-01-10T04:50:39.736425800Z",
     "start_time": "2024-01-10T04:50:38.495484500Z"
    }
   },
   "outputs": [],
   "source": [
    "import tensorflow as tf\n",
    "import os\n",
    "import cv2\n",
    "import numpy as np\n",
    "from matplotlib import pyplot as plt"
   ]
  },
  {
   "cell_type": "code",
   "execution_count": 3,
   "metadata": {
    "ExecuteTime": {
     "end_time": "2024-01-10T04:50:40.492390200Z",
     "start_time": "2024-01-10T04:50:40.452914200Z"
    }
   },
   "outputs": [],
   "source": [
    "# Avoid OOM errors by setting GPU Memory Consumption Growth\n",
    "gpus = tf.config.experimental.list_physical_devices('GPU')\n",
    "for gpu in gpus: \n",
    "    tf.config.experimental.set_memory_growth(gpu, True)"
   ]
  },
  {
   "cell_type": "code",
   "execution_count": 4,
   "metadata": {
    "tags": [],
    "ExecuteTime": {
     "end_time": "2024-01-10T04:50:41.710190Z",
     "start_time": "2024-01-10T04:50:41.702240400Z"
    }
   },
   "outputs": [
    {
     "data": {
      "text/plain": "[PhysicalDevice(name='/physical_device:GPU:0', device_type='GPU')]"
     },
     "execution_count": 4,
     "metadata": {},
     "output_type": "execute_result"
    }
   ],
   "source": [
    "tf.config.list_physical_devices('GPU')"
   ]
  },
  {
   "cell_type": "code",
   "execution_count": 5,
   "metadata": {
    "collapsed": false,
    "ExecuteTime": {
     "end_time": "2024-01-10T04:50:47.045576600Z",
     "start_time": "2024-01-10T04:50:47.027222300Z"
    }
   },
   "outputs": [],
   "source": [
    "imgsize = 1024\n",
    "batchsize = 16\n",
    "data_dir = 'data2'"
   ]
  },
  {
   "cell_type": "markdown",
   "metadata": {},
   "source": [
    "# 3. Load Data"
   ]
  },
  {
   "cell_type": "code",
   "execution_count": 6,
   "metadata": {
    "ExecuteTime": {
     "end_time": "2024-01-10T04:50:53.812988200Z",
     "start_time": "2024-01-10T04:50:53.278965600Z"
    }
   },
   "outputs": [
    {
     "name": "stdout",
     "output_type": "stream",
     "text": [
      "Found 973 files belonging to 2 classes.\n"
     ]
    }
   ],
   "source": [
    "data = tf.keras.utils.image_dataset_from_directory(data_dir, batch_size=batchsize, image_size=(imgsize, imgsize))"
   ]
  },
  {
   "cell_type": "markdown",
   "source": [
    "----- Remainder is Optional -----"
   ],
   "metadata": {
    "collapsed": false
   }
  },
  {
   "cell_type": "code",
   "execution_count": null,
   "metadata": {},
   "outputs": [],
   "source": [
    "data_iterator = data.as_numpy_iterator()"
   ]
  },
  {
   "cell_type": "code",
   "execution_count": null,
   "metadata": {
    "tags": []
   },
   "outputs": [],
   "source": [
    "batch = data_iterator.next()"
   ]
  },
  {
   "cell_type": "code",
   "execution_count": null,
   "metadata": {
    "collapsed": false
   },
   "outputs": [],
   "source": [
    "batch[0].shape"
   ]
  },
  {
   "cell_type": "code",
   "execution_count": null,
   "metadata": {
    "tags": []
   },
   "outputs": [],
   "source": [
    "fig, ax = plt.subplots(ncols=5, figsize=(20,20))\n",
    "for idx, img in enumerate(batch[0][:5]):\n",
    "    ax[idx].imshow(img.astype(int))\n",
    "    ax[idx].title.set_text(batch[1][idx])"
   ]
  },
  {
   "cell_type": "markdown",
   "metadata": {},
   "source": [
    "# 4. Scale Data"
   ]
  },
  {
   "cell_type": "code",
   "execution_count": 7,
   "metadata": {
    "ExecuteTime": {
     "end_time": "2024-01-10T04:51:08.996899200Z",
     "start_time": "2024-01-10T04:51:08.974701800Z"
    }
   },
   "outputs": [],
   "source": [
    "data = data.map(lambda x,y: (x/255, y))"
   ]
  },
  {
   "cell_type": "markdown",
   "metadata": {},
   "source": [
    "# 5. Split Data"
   ]
  },
  {
   "cell_type": "code",
   "execution_count": 8,
   "metadata": {
    "collapsed": false,
    "ExecuteTime": {
     "end_time": "2024-01-10T04:51:15.455930800Z",
     "start_time": "2024-01-10T04:51:15.449666900Z"
    }
   },
   "outputs": [
    {
     "data": {
      "text/plain": "61"
     },
     "execution_count": 8,
     "metadata": {},
     "output_type": "execute_result"
    }
   ],
   "source": [
    "len(data)"
   ]
  },
  {
   "cell_type": "code",
   "execution_count": 9,
   "metadata": {
    "ExecuteTime": {
     "end_time": "2024-01-10T04:51:16.784337400Z",
     "start_time": "2024-01-10T04:51:16.778440600Z"
    }
   },
   "outputs": [],
   "source": [
    "train_size = int(len(data)*.7)+1\n",
    "val_size = int(len(data)*.2)\n",
    "test_size = int(len(data)*.1)"
   ]
  },
  {
   "cell_type": "code",
   "execution_count": 10,
   "metadata": {
    "collapsed": false,
    "ExecuteTime": {
     "end_time": "2024-01-10T04:51:18.405868100Z",
     "start_time": "2024-01-10T04:51:18.400430100Z"
    }
   },
   "outputs": [
    {
     "data": {
      "text/plain": "43"
     },
     "execution_count": 10,
     "metadata": {},
     "output_type": "execute_result"
    }
   ],
   "source": [
    "train_size"
   ]
  },
  {
   "cell_type": "code",
   "execution_count": 11,
   "metadata": {
    "collapsed": false,
    "ExecuteTime": {
     "end_time": "2024-01-10T04:51:18.811949300Z",
     "start_time": "2024-01-10T04:51:18.795695900Z"
    }
   },
   "outputs": [
    {
     "data": {
      "text/plain": "12"
     },
     "execution_count": 11,
     "metadata": {},
     "output_type": "execute_result"
    }
   ],
   "source": [
    "val_size"
   ]
  },
  {
   "cell_type": "code",
   "execution_count": 12,
   "metadata": {
    "ExecuteTime": {
     "end_time": "2024-01-10T04:51:19.112649600Z",
     "start_time": "2024-01-10T04:51:19.096907700Z"
    }
   },
   "outputs": [
    {
     "data": {
      "text/plain": "6"
     },
     "execution_count": 12,
     "metadata": {},
     "output_type": "execute_result"
    }
   ],
   "source": [
    "test_size"
   ]
  },
  {
   "cell_type": "code",
   "execution_count": 13,
   "metadata": {
    "ExecuteTime": {
     "end_time": "2024-01-10T04:52:18.119023900Z",
     "start_time": "2024-01-10T04:52:18.097212700Z"
    }
   },
   "outputs": [],
   "source": [
    "train = data.take(train_size)\n",
    "val = data.skip(train_size).take(val_size)\n",
    "test = data.skip(train_size+val_size).take(test_size)"
   ]
  },
  {
   "cell_type": "markdown",
   "metadata": {},
   "source": [
    "# 6. Build Deep Learning Model"
   ]
  },
  {
   "cell_type": "code",
   "execution_count": 14,
   "metadata": {
    "ExecuteTime": {
     "end_time": "2024-01-10T04:52:26.942816200Z",
     "start_time": "2024-01-10T04:52:26.938343600Z"
    }
   },
   "outputs": [],
   "source": [
    "from tensorflow.keras.models import Sequential\n",
    "from tensorflow.keras.layers import Conv2D, MaxPooling2D, Dense, Flatten"
   ]
  },
  {
   "cell_type": "code",
   "execution_count": 15,
   "metadata": {
    "ExecuteTime": {
     "end_time": "2024-01-10T04:52:35.440441900Z",
     "start_time": "2024-01-10T04:52:35.400483100Z"
    }
   },
   "outputs": [],
   "source": [
    "model = Sequential()"
   ]
  },
  {
   "cell_type": "code",
   "execution_count": 16,
   "metadata": {
    "ExecuteTime": {
     "end_time": "2024-01-10T04:52:49.898275700Z",
     "start_time": "2024-01-10T04:52:49.484013900Z"
    }
   },
   "outputs": [],
   "source": [
    "model.add(Conv2D(32, (7,7), 1, activation='relu', input_shape=(imgsize,imgsize,3)))\n",
    "model.add(MaxPooling2D())\n",
    "\n",
    "model.add(Conv2D(64, (5,5), 1, activation='relu'))\n",
    "model.add(MaxPooling2D())\n",
    "\n",
    "model.add(Conv2D(128, (3,3), 1, activation='relu'))\n",
    "model.add(MaxPooling2D())\n",
    "\n",
    "model.add(Conv2D(256, (3,3), 1, activation='relu'))\n",
    "model.add(MaxPooling2D())\n",
    "\n",
    "model.add(Flatten())\n",
    "\n",
    "model.add(Dense(512, activation='relu'))\n",
    "model.add(Dense(512, activation='relu'))\n",
    "model.add(Dense(1, activation='sigmoid'))"
   ]
  },
  {
   "cell_type": "code",
   "execution_count": 17,
   "metadata": {
    "ExecuteTime": {
     "end_time": "2024-01-10T04:52:57.321992400Z",
     "start_time": "2024-01-10T04:52:57.316577500Z"
    }
   },
   "outputs": [],
   "source": [
    "model.compile('adam', loss=tf.losses.BinaryCrossentropy(), metrics=['accuracy'])"
   ]
  },
  {
   "cell_type": "code",
   "execution_count": 18,
   "metadata": {
    "tags": [],
    "ExecuteTime": {
     "end_time": "2024-01-10T04:52:59.089264300Z",
     "start_time": "2024-01-10T04:52:59.068528600Z"
    }
   },
   "outputs": [
    {
     "name": "stdout",
     "output_type": "stream",
     "text": [
      "Model: \"sequential\"\n",
      "_________________________________________________________________\n",
      " Layer (type)                Output Shape              Param #   \n",
      "=================================================================\n",
      " conv2d (Conv2D)             (None, 1018, 1018, 32)    4736      \n",
      "                                                                 \n",
      " max_pooling2d (MaxPooling2D  (None, 509, 509, 32)     0         \n",
      " )                                                               \n",
      "                                                                 \n",
      " conv2d_1 (Conv2D)           (None, 505, 505, 64)      51264     \n",
      "                                                                 \n",
      " max_pooling2d_1 (MaxPooling  (None, 252, 252, 64)     0         \n",
      " 2D)                                                             \n",
      "                                                                 \n",
      " conv2d_2 (Conv2D)           (None, 250, 250, 128)     73856     \n",
      "                                                                 \n",
      " max_pooling2d_2 (MaxPooling  (None, 125, 125, 128)    0         \n",
      " 2D)                                                             \n",
      "                                                                 \n",
      " conv2d_3 (Conv2D)           (None, 123, 123, 256)     295168    \n",
      "                                                                 \n",
      " max_pooling2d_3 (MaxPooling  (None, 61, 61, 256)      0         \n",
      " 2D)                                                             \n",
      "                                                                 \n",
      " flatten (Flatten)           (None, 952576)            0         \n",
      "                                                                 \n",
      " dense (Dense)               (None, 512)               487719424 \n",
      "                                                                 \n",
      " dense_1 (Dense)             (None, 512)               262656    \n",
      "                                                                 \n",
      " dense_2 (Dense)             (None, 1)                 513       \n",
      "                                                                 \n",
      "=================================================================\n",
      "Total params: 488,407,617\n",
      "Trainable params: 488,407,617\n",
      "Non-trainable params: 0\n",
      "_________________________________________________________________\n"
     ]
    }
   ],
   "source": [
    "model.summary()"
   ]
  },
  {
   "cell_type": "markdown",
   "metadata": {},
   "source": [
    "# 7. Train"
   ]
  },
  {
   "cell_type": "code",
   "execution_count": 19,
   "metadata": {
    "ExecuteTime": {
     "end_time": "2024-01-10T04:53:23.542726Z",
     "start_time": "2024-01-10T04:53:23.530417500Z"
    }
   },
   "outputs": [],
   "source": [
    "logdir='logs'"
   ]
  },
  {
   "cell_type": "code",
   "execution_count": 20,
   "metadata": {
    "ExecuteTime": {
     "end_time": "2024-01-10T04:53:24.830643500Z",
     "start_time": "2024-01-10T04:53:24.825214900Z"
    }
   },
   "outputs": [],
   "source": [
    "tensorboard_callback = tf.keras.callbacks.TensorBoard(log_dir=logdir)"
   ]
  },
  {
   "cell_type": "code",
   "execution_count": 21,
   "metadata": {
    "scrolled": true,
    "tags": [],
    "ExecuteTime": {
     "end_time": "2024-01-10T04:59:16.009633400Z",
     "start_time": "2024-01-10T04:53:26.260546800Z"
    }
   },
   "outputs": [
    {
     "name": "stdout",
     "output_type": "stream",
     "text": [
      "Epoch 1/20\n",
      "43/43 [==============================] - 32s 351ms/step - loss: 1.8089 - accuracy: 0.5785 - val_loss: 0.5583 - val_accuracy: 0.6771\n",
      "Epoch 2/20\n",
      "43/43 [==============================] - 16s 361ms/step - loss: 0.7342 - accuracy: 0.6395 - val_loss: 0.5856 - val_accuracy: 0.6615\n",
      "Epoch 3/20\n",
      "43/43 [==============================] - 16s 365ms/step - loss: 0.5033 - accuracy: 0.7587 - val_loss: 0.4339 - val_accuracy: 0.8229\n",
      "Epoch 4/20\n",
      "43/43 [==============================] - 16s 361ms/step - loss: 0.5401 - accuracy: 0.8052 - val_loss: 0.4775 - val_accuracy: 0.7865\n",
      "Epoch 5/20\n",
      "43/43 [==============================] - 16s 359ms/step - loss: 0.3587 - accuracy: 0.8910 - val_loss: 0.5244 - val_accuracy: 0.8281\n",
      "Epoch 6/20\n",
      "43/43 [==============================] - 17s 396ms/step - loss: 0.2183 - accuracy: 0.9142 - val_loss: 0.3301 - val_accuracy: 0.8594\n",
      "Epoch 7/20\n",
      "43/43 [==============================] - 16s 366ms/step - loss: 0.2441 - accuracy: 0.9186 - val_loss: 0.6691 - val_accuracy: 0.7604\n",
      "Epoch 8/20\n",
      "43/43 [==============================] - 16s 361ms/step - loss: 0.3527 - accuracy: 0.9041 - val_loss: 0.5371 - val_accuracy: 0.8073\n",
      "Epoch 9/20\n",
      "43/43 [==============================] - 17s 387ms/step - loss: 0.1594 - accuracy: 0.9462 - val_loss: 0.7859 - val_accuracy: 0.8750\n",
      "Epoch 10/20\n",
      "43/43 [==============================] - 16s 362ms/step - loss: 0.1827 - accuracy: 0.9477 - val_loss: 0.8304 - val_accuracy: 0.7760\n",
      "Epoch 11/20\n",
      "43/43 [==============================] - 16s 362ms/step - loss: 0.1333 - accuracy: 0.9520 - val_loss: 0.6829 - val_accuracy: 0.8177\n",
      "Epoch 12/20\n",
      "43/43 [==============================] - 16s 358ms/step - loss: 0.0959 - accuracy: 0.9651 - val_loss: 0.7041 - val_accuracy: 0.8802\n",
      "Epoch 13/20\n",
      "43/43 [==============================] - 17s 384ms/step - loss: 0.0377 - accuracy: 0.9840 - val_loss: 0.8943 - val_accuracy: 0.8906\n",
      "Epoch 14/20\n",
      "43/43 [==============================] - 16s 360ms/step - loss: 0.0836 - accuracy: 0.9869 - val_loss: 1.0460 - val_accuracy: 0.8698\n",
      "Epoch 15/20\n",
      "43/43 [==============================] - 16s 361ms/step - loss: 0.0692 - accuracy: 0.9855 - val_loss: 0.7751 - val_accuracy: 0.8854\n",
      "Epoch 16/20\n",
      "43/43 [==============================] - 16s 360ms/step - loss: 0.0378 - accuracy: 0.9898 - val_loss: 0.7061 - val_accuracy: 0.9062\n",
      "Epoch 17/20\n",
      "43/43 [==============================] - 16s 357ms/step - loss: 0.0124 - accuracy: 0.9985 - val_loss: 1.7392 - val_accuracy: 0.8802\n",
      "Epoch 18/20\n",
      "43/43 [==============================] - 18s 422ms/step - loss: 0.0015 - accuracy: 1.0000 - val_loss: 1.5605 - val_accuracy: 0.8594\n",
      "Epoch 19/20\n",
      "43/43 [==============================] - 19s 435ms/step - loss: 3.4021e-04 - accuracy: 1.0000 - val_loss: 1.5674 - val_accuracy: 0.8802\n",
      "Epoch 20/20\n",
      "43/43 [==============================] - 19s 433ms/step - loss: 7.9565e-05 - accuracy: 1.0000 - val_loss: 1.3681 - val_accuracy: 0.8646\n"
     ]
    }
   ],
   "source": [
    "hist = model.fit(train, epochs=20, validation_data=val, callbacks=[tensorboard_callback])"
   ]
  },
  {
   "cell_type": "markdown",
   "metadata": {},
   "source": [
    "# 8. Plot Performance"
   ]
  },
  {
   "cell_type": "code",
   "execution_count": 22,
   "metadata": {
    "ExecuteTime": {
     "end_time": "2024-01-10T05:03:55.934319800Z",
     "start_time": "2024-01-10T05:03:55.680490900Z"
    }
   },
   "outputs": [
    {
     "data": {
      "text/plain": "<Figure size 640x480 with 1 Axes>",
      "image/png": "[encoded data removed]"
     },
     "metadata": {},
     "output_type": "display_data"
    }
   ],
   "source": [
    "fig = plt.figure()\n",
    "plt.plot(hist.history['loss'], color='teal', label='loss')\n",
    "plt.plot(hist.history['val_loss'], color='orange', label='val_loss')\n",
    "fig.suptitle('Loss', fontsize=20)\n",
    "plt.legend(loc=\"upper left\")\n",
    "plt.show()"
   ]
  },
  {
   "cell_type": "code",
   "execution_count": 23,
   "metadata": {
    "ExecuteTime": {
     "end_time": "2024-01-10T05:03:58.167627400Z",
     "start_time": "2024-01-10T05:03:58.069303800Z"
    }
   },
   "outputs": [
    {
     "data": {
      "text/plain": "<Figure size 640x480 with 1 Axes>",
      "image/png": "[encoded data removed]"
     },
     "metadata": {},
     "output_type": "display_data"
    }
   ],
   "source": [
    "fig = plt.figure()\n",
    "plt.plot(hist.history['accuracy'], color='teal', label='accuracy')\n",
    "plt.plot(hist.history['val_accuracy'], color='orange', label='val_accuracy')\n",
    "fig.suptitle('Accuracy', fontsize=20)\n",
    "plt.legend(loc=\"upper left\")\n",
    "plt.show()"
   ]
  },
  {
   "cell_type": "markdown",
   "metadata": {},
   "source": [
    "# 9. Evaluate"
   ]
  },
  {
   "cell_type": "code",
   "execution_count": 24,
   "metadata": {
    "ExecuteTime": {
     "end_time": "2024-01-10T05:04:16.532652800Z",
     "start_time": "2024-01-10T05:04:16.527781Z"
    }
   },
   "outputs": [],
   "source": [
    "from tensorflow.keras.metrics import Precision, Recall, BinaryAccuracy"
   ]
  },
  {
   "cell_type": "code",
   "execution_count": 25,
   "metadata": {
    "ExecuteTime": {
     "end_time": "2024-01-10T05:04:17.058769800Z",
     "start_time": "2024-01-10T05:04:17.046492500Z"
    }
   },
   "outputs": [],
   "source": [
    "pre = Precision()\n",
    "re = Recall()\n",
    "acc = BinaryAccuracy()"
   ]
  },
  {
   "cell_type": "code",
   "execution_count": 26,
   "metadata": {
    "ExecuteTime": {
     "end_time": "2024-01-10T05:04:22.901820600Z",
     "start_time": "2024-01-10T05:04:17.992559Z"
    }
   },
   "outputs": [],
   "source": [
    "for batch in test.as_numpy_iterator(): \n",
    "    X, y = batch\n",
    "    yhat = model.predict(X)\n",
    "    pre.update_state(y, yhat)\n",
    "    re.update_state(y, yhat)\n",
    "    acc.update_state(y, yhat)"
   ]
  },
  {
   "cell_type": "code",
   "execution_count": 27,
   "metadata": {
    "ExecuteTime": {
     "end_time": "2024-01-10T05:04:27.086816300Z",
     "start_time": "2024-01-10T05:04:27.067422Z"
    }
   },
   "outputs": [
    {
     "name": "stdout",
     "output_type": "stream",
     "text": [
      "tf.Tensor(0.82978725, shape=(), dtype=float32) tf.Tensor(0.8125, shape=(), dtype=float32) tf.Tensor(0.81330127, shape=(), dtype=float32)\n"
     ]
    }
   ],
   "source": [
    "print(pre.result(), re.result(), acc.result())"
   ]
  },
  {
   "cell_type": "markdown",
   "metadata": {},
   "source": [
    "# 10. Test"
   ]
  },
  {
   "cell_type": "code",
   "execution_count": 47,
   "metadata": {
    "ExecuteTime": {
     "end_time": "2024-01-10T05:19:47.070033800Z",
     "start_time": "2024-01-10T05:19:46.917569600Z"
    }
   },
   "outputs": [],
   "source": [
    "img0 = cv2.imread('test/897.jpg')\n",
    "img1 = cv2.imread('test/1253.jpg')\n",
    "img2 = cv2.imread('test/1254.jpg')\n",
    "img3 = cv2.imread('test/1305.jpg')\n",
    "img4 = cv2.imread('test/1470.jpg')\n",
    "\n",
    "img5 = cv2.imread('test/1547.jpg')\n",
    "img6 = cv2.imread('test/1430.jpg')\n",
    "img7 = cv2.imread('test/1431.jpg')\n",
    "img8 = cv2.imread('test/1466.jpg')\n",
    "img9 = cv2.imread('test/1515.jpg')\n",
    "#plt.imshow(cv2.cvtColor(img0, cv2.COLOR_BGR2RGB))\n",
    "#plt.show()"
   ]
  },
  {
   "cell_type": "code",
   "execution_count": 48,
   "metadata": {
    "ExecuteTime": {
     "end_time": "2024-01-10T05:19:52.165281700Z",
     "start_time": "2024-01-10T05:19:51.966080100Z"
    }
   },
   "outputs": [],
   "source": [
    "resize0 = tf.image.resize(img0, (imgsize,imgsize))\n",
    "resize1 = tf.image.resize(img1, (imgsize,imgsize))\n",
    "resize2 = tf.image.resize(img2, (imgsize,imgsize))\n",
    "resize3 = tf.image.resize(img3, (imgsize,imgsize))\n",
    "resize4 = tf.image.resize(img4, (imgsize,imgsize))\n",
    "\n",
    "resize5 = tf.image.resize(img5, (imgsize,imgsize))\n",
    "resize6 = tf.image.resize(img6, (imgsize,imgsize))\n",
    "resize7 = tf.image.resize(img7, (imgsize,imgsize))\n",
    "resize8 = tf.image.resize(img8, (imgsize,imgsize))\n",
    "resize9 = tf.image.resize(img9, (imgsize,imgsize))\n",
    "#plt.imshow(resize0.numpy().astype(int))\n",
    "#plt.show()"
   ]
  },
  {
   "cell_type": "code",
   "execution_count": 31,
   "metadata": {
    "ExecuteTime": {
     "end_time": "2024-01-10T05:06:08.276632500Z",
     "start_time": "2024-01-10T05:06:07.336808400Z"
    }
   },
   "outputs": [],
   "source": [
    "#yhat0 = model.predict(np.expand_dims(resize0/255, 0))\n",
    "yhat0 = model.predict(np.expand_dims(resize0/255, 0))[0][0]\n",
    "yhat1 = model.predict(np.expand_dims(resize1/255, 0))[0][0]\n",
    "yhat2 = model.predict(np.expand_dims(resize2/255, 0))[0][0]\n",
    "yhat3 = model.predict(np.expand_dims(resize3/255, 0))[0][0]\n",
    "yhat4 = model.predict(np.expand_dims(resize4/255, 0))[0][0]\n",
    "\n",
    "yhat5 = model.predict(np.expand_dims(resize5/255, 0))[0][0]\n",
    "yhat6 = model.predict(np.expand_dims(resize6/255, 0))[0][0]\n",
    "yhat7 = model.predict(np.expand_dims(resize7/255, 0))[0][0]\n",
    "yhat8 = model.predict(np.expand_dims(resize8/255, 0))[0][0]\n",
    "yhat9 = model.predict(np.expand_dims(resize9/255, 0))[0][0]"
   ]
  },
  {
   "cell_type": "code",
   "execution_count": 46,
   "metadata": {
    "collapsed": false,
    "ExecuteTime": {
     "end_time": "2024-01-10T05:17:45.987534500Z",
     "start_time": "2024-01-10T05:17:45.929957500Z"
    }
   },
   "outputs": [
    {
     "name": "stdout",
     "output_type": "stream",
     "text": [
      "0.03099621087  - Want 1.0\n",
      "0.31958216429  - Want 1.0\n",
      "0.84896820784  - Want 1.0\n",
      "0.99926871061  - Want 1.0\n",
      "0.99999880791  - Want 1.0\n",
      "------------------------\n",
      "0.11162064224  - Want 0.0\n",
      "0.00000000000  - Want 0.0\n",
      "0.00000000000  - Want 0.0\n",
      "0.99999499321  - Want 0.0\n",
      "0.00000115958  - Want 0.0\n"
     ]
    }
   ],
   "source": [
    "# should be 1\n",
    "print(\"{:.11f}\".format(yhat0), \" - Want 1.0\")\n",
    "print(\"{:.11f}\".format(yhat1), \" - Want 1.0\")\n",
    "print(\"{:.11f}\".format(yhat2), \" - Want 1.0\")\n",
    "print(\"{:.11f}\".format(yhat3), \" - Want 1.0\")\n",
    "print(\"{:.11f}\".format(yhat4), \" - Want 1.0\")\n",
    "print(\"------------------------\")\n",
    "print(\"{:.11f}\".format(yhat5), \" - Want 0.0\")\n",
    "print(\"{:.11f}\".format(yhat6), \" - Want 0.0\")\n",
    "print(\"{:.11f}\".format(yhat7), \" - Want 0.0\")\n",
    "print(\"{:.11f}\".format(yhat8), \" - Want 0.0\")\n",
    "print(\"{:.11f}\".format(yhat9), \" - Want 0.0\")"
   ]
  },
  {
   "cell_type": "markdown",
   "metadata": {},
   "source": [
    "# 11. Save the Model"
   ]
  },
  {
   "cell_type": "code",
   "execution_count": null,
   "metadata": {},
   "outputs": [],
   "source": [
    "from tensorflow.keras.models import load_model"
   ]
  },
  {
   "cell_type": "code",
   "execution_count": null,
   "metadata": {},
   "outputs": [],
   "source": [
    "model.save(os.path.join('models','imageclassifier.h5'))"
   ]
  },
  {
   "cell_type": "code",
   "execution_count": null,
   "metadata": {},
   "outputs": [],
   "source": [
    "new_model = load_model(os.path.join('models', 'imageclassifier.h5'))"
   ]
  },
  {
   "cell_type": "code",
   "execution_count": null,
   "metadata": {},
   "outputs": [],
   "source": [
    "yhatnew = new_model.predict(np.expand_dims(resize0/255, 0))"
   ]
  },
  {
   "cell_type": "code",
   "execution_count": null,
   "metadata": {
    "collapsed": false
   },
   "outputs": [],
   "source": [
    "yhatnew"
   ]
  },
  {
   "cell_type": "markdown",
   "metadata": {
    "collapsed": false
   },
   "source": [
    "# 12. Release Memory"
   ]
  },
  {
   "cell_type": "code",
   "execution_count": 49,
   "metadata": {
    "collapsed": false,
    "ExecuteTime": {
     "end_time": "2024-01-10T05:21:01.199377400Z",
     "start_time": "2024-01-10T05:21:01.165910400Z"
    }
   },
   "outputs": [],
   "source": [
    "from keras import backend as kbe\n",
    "kbe.clear_session()"
   ]
  },
  {
   "cell_type": "code",
   "execution_count": 50,
   "metadata": {
    "collapsed": false,
    "ExecuteTime": {
     "end_time": "2024-01-10T05:21:07.525424300Z",
     "start_time": "2024-01-10T05:21:03.933332700Z"
    }
   },
   "outputs": [],
   "source": [
    "from numba import cuda\n",
    "cuda.select_device(0)\n",
    "cuda.close()"
   ]
  },
  {
   "cell_type": "code",
   "execution_count": null,
   "metadata": {
    "collapsed": false
   },
   "outputs": [],
   "source": []
  }
 ],
 "metadata": {
  "kernelspec": {
   "display_name": "Python 3 (ipykernel)",
   "language": "python",
   "name": "python3"
  },
  "language_info": {
   "codemirror_mode": {
    "name": "ipython",
    "version": 3
   },
   "file_extension": ".py",
   "mimetype": "text/x-python",
   "name": "python",
   "nbconvert_exporter": "python",
   "pygments_lexer": "ipython3",
   "version": "3.9.13"
  }
 },
 "nbformat": 4,
 "nbformat_minor": 4
}
