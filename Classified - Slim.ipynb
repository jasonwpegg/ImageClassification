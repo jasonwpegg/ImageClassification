{
 "cells": [
  {
   "cell_type": "markdown",
   "metadata": {},
   "source": [
    "# 1. Install Dependencies and Setup"
   ]
  },
  {
   "cell_type": "code",
   "execution_count": 1,
   "metadata": {
    "collapsed": false,
    "ExecuteTime": {
     "end_time": "2024-01-10T07:18:56.859323100Z",
     "start_time": "2024-01-10T07:18:56.813445900Z"
    }
   },
   "outputs": [
    {
     "name": "stdout",
     "output_type": "stream",
     "text": [
      "Hello, world!\n"
     ]
    }
   ],
   "source": [
    "print(\"Hello, world!\")"
   ]
  },
  {
   "cell_type": "code",
   "execution_count": 2,
   "metadata": {
    "ExecuteTime": {
     "end_time": "2024-01-10T07:18:58.093152100Z",
     "start_time": "2024-01-10T07:18:56.860299500Z"
    }
   },
   "outputs": [],
   "source": [
    "import tensorflow as tf\n",
    "import os\n",
    "import cv2\n",
    "import numpy as np\n",
    "from matplotlib import pyplot as plt"
   ]
  },
  {
   "cell_type": "code",
   "outputs": [],
   "source": [
    "imgsize = 1024\n",
    "batchsize = 16\n",
    "data_dir = 'data2'\n",
    "epochs = 64"
   ],
   "metadata": {
    "collapsed": false,
    "ExecuteTime": {
     "end_time": "2024-01-10T07:18:58.109915800Z",
     "start_time": "2024-01-10T07:18:58.094159600Z"
    }
   },
   "execution_count": 3
  },
  {
   "cell_type": "code",
   "execution_count": 4,
   "metadata": {
    "ExecuteTime": {
     "end_time": "2024-01-10T07:18:58.131618600Z",
     "start_time": "2024-01-10T07:18:58.098600300Z"
    }
   },
   "outputs": [],
   "source": [
    "# Avoid OOM errors by setting GPU Memory Consumption Growth\n",
    "gpus = tf.config.experimental.list_physical_devices('GPU')\n",
    "for gpu in gpus: \n",
    "    tf.config.experimental.set_memory_growth(gpu, True)"
   ]
  },
  {
   "cell_type": "code",
   "execution_count": 5,
   "metadata": {
    "tags": [],
    "ExecuteTime": {
     "end_time": "2024-01-10T07:18:58.132597400Z",
     "start_time": "2024-01-10T07:18:58.128160Z"
    }
   },
   "outputs": [
    {
     "data": {
      "text/plain": "[PhysicalDevice(name='/physical_device:GPU:0', device_type='GPU')]"
     },
     "execution_count": 5,
     "metadata": {},
     "output_type": "execute_result"
    }
   ],
   "source": [
    "tf.config.list_physical_devices('GPU')"
   ]
  },
  {
   "cell_type": "markdown",
   "metadata": {},
   "source": [
    "# 3. Load and Scale Data"
   ]
  },
  {
   "cell_type": "code",
   "execution_count": 6,
   "metadata": {
    "ExecuteTime": {
     "end_time": "2024-01-10T07:18:58.574467Z",
     "start_time": "2024-01-10T07:18:58.132597400Z"
    }
   },
   "outputs": [
    {
     "name": "stdout",
     "output_type": "stream",
     "text": [
      "Found 2024 files belonging to 2 classes.\n"
     ]
    }
   ],
   "source": [
    "data = tf.keras.utils.image_dataset_from_directory(data_dir, batch_size=batchsize, image_size=(imgsize, imgsize))"
   ]
  },
  {
   "cell_type": "code",
   "execution_count": 7,
   "metadata": {
    "ExecuteTime": {
     "end_time": "2024-01-10T07:18:58.613386200Z",
     "start_time": "2024-01-10T07:18:58.575451100Z"
    }
   },
   "outputs": [],
   "source": [
    "data = data.map(lambda x,y: (x/255, y))"
   ]
  },
  {
   "cell_type": "markdown",
   "source": [
    "# 4. Split Data"
   ],
   "metadata": {
    "collapsed": false
   }
  },
  {
   "cell_type": "code",
   "execution_count": 8,
   "metadata": {
    "collapsed": false,
    "ExecuteTime": {
     "end_time": "2024-01-10T07:18:58.614907Z",
     "start_time": "2024-01-10T07:18:58.589356800Z"
    }
   },
   "outputs": [
    {
     "data": {
      "text/plain": "127"
     },
     "execution_count": 8,
     "metadata": {},
     "output_type": "execute_result"
    }
   ],
   "source": [
    "len(data)"
   ]
  },
  {
   "cell_type": "code",
   "execution_count": 9,
   "metadata": {
    "ExecuteTime": {
     "end_time": "2024-01-10T07:18:58.615886500Z",
     "start_time": "2024-01-10T07:18:58.594265100Z"
    }
   },
   "outputs": [],
   "source": [
    "train_size = int(len(data)*.7)+1\n",
    "val_size = int(len(data)*.2)+1\n",
    "test_size = int(len(data)*.1)"
   ]
  },
  {
   "cell_type": "code",
   "outputs": [
    {
     "name": "stdout",
     "output_type": "stream",
     "text": [
      "Train size:  89\n",
      "Val size:  26\n",
      "Test size:  12\n",
      "Total size:  127\n"
     ]
    }
   ],
   "source": [
    "print(\"Train size: \", train_size)\n",
    "print(\"Val size: \", val_size)\n",
    "print(\"Test size: \", test_size)\n",
    "print(\"Total size: \", train_size+val_size+test_size)"
   ],
   "metadata": {
    "collapsed": false,
    "ExecuteTime": {
     "end_time": "2024-01-10T07:18:58.615886500Z",
     "start_time": "2024-01-10T07:18:58.598174700Z"
    }
   },
   "execution_count": 10
  },
  {
   "cell_type": "code",
   "execution_count": 11,
   "metadata": {
    "ExecuteTime": {
     "end_time": "2024-01-10T07:18:58.617393400Z",
     "start_time": "2024-01-10T07:18:58.602081Z"
    }
   },
   "outputs": [],
   "source": [
    "train = data.take(train_size)\n",
    "val = data.skip(train_size).take(val_size)\n",
    "test = data.skip(train_size+val_size).take(test_size)"
   ]
  },
  {
   "cell_type": "markdown",
   "metadata": {},
   "source": [
    "# 5. Build Deep Learning Model"
   ]
  },
  {
   "cell_type": "code",
   "execution_count": 12,
   "metadata": {
    "ExecuteTime": {
     "end_time": "2024-01-10T07:18:58.617393400Z",
     "start_time": "2024-01-10T07:18:58.605566500Z"
    }
   },
   "outputs": [],
   "source": [
    "from tensorflow.keras.models import Sequential\n",
    "from tensorflow.keras.layers import Conv2D, MaxPooling2D, Dense, Flatten"
   ]
  },
  {
   "cell_type": "code",
   "execution_count": 13,
   "metadata": {
    "ExecuteTime": {
     "end_time": "2024-01-10T07:18:58.635612600Z",
     "start_time": "2024-01-10T07:18:58.609475600Z"
    }
   },
   "outputs": [],
   "source": [
    "model = Sequential()"
   ]
  },
  {
   "cell_type": "code",
   "execution_count": 14,
   "metadata": {
    "ExecuteTime": {
     "end_time": "2024-01-10T07:18:58.818113900Z",
     "start_time": "2024-01-10T07:18:58.617393400Z"
    }
   },
   "outputs": [],
   "source": [
    "model.add(Conv2D(32, (7,7), 1, activation='relu', input_shape=(imgsize,imgsize,3)))\n",
    "model.add(MaxPooling2D())\n",
    "\n",
    "model.add(Conv2D(64, (5,5), 1, activation='relu'))\n",
    "model.add(MaxPooling2D())\n",
    "\n",
    "model.add(Conv2D(128, (3,3), 1, activation='relu'))\n",
    "model.add(MaxPooling2D())\n",
    "\n",
    "model.add(Conv2D(256, (3,3), 1, activation='relu'))\n",
    "model.add(MaxPooling2D())\n",
    "\n",
    "model.add(Flatten())\n",
    "\n",
    "model.add(Dense(512, activation='relu'))\n",
    "model.add(Dense(512, activation='relu'))\n",
    "model.add(Dense(1, activation='sigmoid'))"
   ]
  },
  {
   "cell_type": "code",
   "execution_count": 15,
   "metadata": {
    "ExecuteTime": {
     "end_time": "2024-01-10T07:18:58.832878400Z",
     "start_time": "2024-01-10T07:18:58.820062400Z"
    }
   },
   "outputs": [],
   "source": [
    "model.compile('adam', loss=tf.losses.BinaryCrossentropy(), metrics=['accuracy'])"
   ]
  },
  {
   "cell_type": "code",
   "execution_count": 16,
   "metadata": {
    "tags": [],
    "ExecuteTime": {
     "end_time": "2024-01-10T07:18:58.864392800Z",
     "start_time": "2024-01-10T07:18:58.828437Z"
    }
   },
   "outputs": [
    {
     "name": "stdout",
     "output_type": "stream",
     "text": [
      "Model: \"sequential\"\n",
      "_________________________________________________________________\n",
      " Layer (type)                Output Shape              Param #   \n",
      "=================================================================\n",
      " conv2d (Conv2D)             (None, 1018, 1018, 32)    4736      \n",
      "                                                                 \n",
      " max_pooling2d (MaxPooling2D  (None, 509, 509, 32)     0         \n",
      " )                                                               \n",
      "                                                                 \n",
      " conv2d_1 (Conv2D)           (None, 505, 505, 64)      51264     \n",
      "                                                                 \n",
      " max_pooling2d_1 (MaxPooling  (None, 252, 252, 64)     0         \n",
      " 2D)                                                             \n",
      "                                                                 \n",
      " conv2d_2 (Conv2D)           (None, 250, 250, 128)     73856     \n",
      "                                                                 \n",
      " max_pooling2d_2 (MaxPooling  (None, 125, 125, 128)    0         \n",
      " 2D)                                                             \n",
      "                                                                 \n",
      " conv2d_3 (Conv2D)           (None, 123, 123, 256)     295168    \n",
      "                                                                 \n",
      " max_pooling2d_3 (MaxPooling  (None, 61, 61, 256)      0         \n",
      " 2D)                                                             \n",
      "                                                                 \n",
      " flatten (Flatten)           (None, 952576)            0         \n",
      "                                                                 \n",
      " dense (Dense)               (None, 512)               487719424 \n",
      "                                                                 \n",
      " dense_1 (Dense)             (None, 512)               262656    \n",
      "                                                                 \n",
      " dense_2 (Dense)             (None, 1)                 513       \n",
      "                                                                 \n",
      "=================================================================\n",
      "Total params: 488,407,617\n",
      "Trainable params: 488,407,617\n",
      "Non-trainable params: 0\n",
      "_________________________________________________________________\n"
     ]
    }
   ],
   "source": [
    "model.summary()"
   ]
  },
  {
   "cell_type": "markdown",
   "metadata": {},
   "source": [
    "# 6. Train"
   ]
  },
  {
   "cell_type": "code",
   "execution_count": 17,
   "metadata": {
    "ExecuteTime": {
     "end_time": "2024-01-10T07:18:58.865372400Z",
     "start_time": "2024-01-10T07:18:58.844206400Z"
    }
   },
   "outputs": [],
   "source": [
    "logdir='logs'"
   ]
  },
  {
   "cell_type": "code",
   "execution_count": 18,
   "metadata": {
    "ExecuteTime": {
     "end_time": "2024-01-10T07:18:58.866348500Z",
     "start_time": "2024-01-10T07:18:58.848118Z"
    }
   },
   "outputs": [],
   "source": [
    "tensorboard_callback = tf.keras.callbacks.TensorBoard(log_dir=logdir)"
   ]
  },
  {
   "cell_type": "code",
   "execution_count": 19,
   "metadata": {
    "scrolled": true,
    "tags": [],
    "ExecuteTime": {
     "end_time": "2024-01-10T08:04:45.075491100Z",
     "start_time": "2024-01-10T07:18:58.851046900Z"
    }
   },
   "outputs": [
    {
     "name": "stdout",
     "output_type": "stream",
     "text": [
      "Epoch 1/64\n",
      "89/89 [==============================] - 50s 505ms/step - loss: 0.9445 - accuracy: 0.7275 - val_loss: 0.4903 - val_accuracy: 0.6923\n",
      "Epoch 2/64\n",
      "89/89 [==============================] - 54s 593ms/step - loss: 0.3947 - accuracy: 0.8315 - val_loss: 0.2990 - val_accuracy: 0.9062\n",
      "Epoch 3/64\n",
      "89/89 [==============================] - 52s 568ms/step - loss: 0.2222 - accuracy: 0.9115 - val_loss: 0.3147 - val_accuracy: 0.8918\n",
      "Epoch 4/64\n",
      "89/89 [==============================] - 51s 560ms/step - loss: 0.1384 - accuracy: 0.9522 - val_loss: 0.2989 - val_accuracy: 0.8894\n",
      "Epoch 5/64\n",
      "89/89 [==============================] - 59s 651ms/step - loss: 0.0959 - accuracy: 0.9719 - val_loss: 0.3571 - val_accuracy: 0.9014\n",
      "Epoch 6/64\n",
      "89/89 [==============================] - 48s 520ms/step - loss: 0.1164 - accuracy: 0.9691 - val_loss: 0.3997 - val_accuracy: 0.8870\n",
      "Epoch 7/64\n",
      "89/89 [==============================] - 45s 505ms/step - loss: 0.0625 - accuracy: 0.9853 - val_loss: 0.5250 - val_accuracy: 0.9111\n",
      "Epoch 8/64\n",
      "89/89 [==============================] - 45s 493ms/step - loss: 0.0269 - accuracy: 0.9944 - val_loss: 0.7492 - val_accuracy: 0.9038\n",
      "Epoch 9/64\n",
      "89/89 [==============================] - 47s 509ms/step - loss: 0.0214 - accuracy: 0.9979 - val_loss: 0.6140 - val_accuracy: 0.9062\n",
      "Epoch 10/64\n",
      "89/89 [==============================] - 48s 534ms/step - loss: 0.0768 - accuracy: 0.9761 - val_loss: 0.8356 - val_accuracy: 0.9159\n",
      "Epoch 11/64\n",
      "89/89 [==============================] - 47s 508ms/step - loss: 0.0403 - accuracy: 0.9923 - val_loss: 0.4882 - val_accuracy: 0.9111\n",
      "Epoch 12/64\n",
      "89/89 [==============================] - 45s 494ms/step - loss: 0.0048 - accuracy: 0.9993 - val_loss: 0.6640 - val_accuracy: 0.9111\n",
      "Epoch 13/64\n",
      "89/89 [==============================] - 51s 557ms/step - loss: 0.0132 - accuracy: 0.9965 - val_loss: 0.8891 - val_accuracy: 0.9111\n",
      "Epoch 14/64\n",
      "89/89 [==============================] - 42s 461ms/step - loss: 0.0031 - accuracy: 0.9986 - val_loss: 0.7027 - val_accuracy: 0.9207\n",
      "Epoch 15/64\n",
      "89/89 [==============================] - 50s 548ms/step - loss: 0.0202 - accuracy: 0.9986 - val_loss: 0.7662 - val_accuracy: 0.9255\n",
      "Epoch 16/64\n",
      "89/89 [==============================] - 51s 556ms/step - loss: 0.0020 - accuracy: 0.9993 - val_loss: 0.9504 - val_accuracy: 0.9231\n",
      "Epoch 17/64\n",
      "89/89 [==============================] - 43s 476ms/step - loss: 0.0219 - accuracy: 0.9958 - val_loss: 1.3944 - val_accuracy: 0.9111\n",
      "Epoch 18/64\n",
      "89/89 [==============================] - 42s 470ms/step - loss: 0.0432 - accuracy: 0.9930 - val_loss: 0.8536 - val_accuracy: 0.9303\n",
      "Epoch 19/64\n",
      "89/89 [==============================] - 43s 470ms/step - loss: 0.0285 - accuracy: 0.9951 - val_loss: 0.8731 - val_accuracy: 0.9231\n",
      "Epoch 20/64\n",
      "89/89 [==============================] - 48s 531ms/step - loss: 0.0103 - accuracy: 0.9986 - val_loss: 0.6361 - val_accuracy: 0.9255\n",
      "Epoch 21/64\n",
      "89/89 [==============================] - 53s 580ms/step - loss: 1.3470e-04 - accuracy: 1.0000 - val_loss: 0.5963 - val_accuracy: 0.9351\n",
      "Epoch 22/64\n",
      "89/89 [==============================] - 51s 558ms/step - loss: 3.2995e-05 - accuracy: 1.0000 - val_loss: 0.6918 - val_accuracy: 0.9303\n",
      "Epoch 23/64\n",
      "89/89 [==============================] - 51s 560ms/step - loss: 1.4088e-05 - accuracy: 1.0000 - val_loss: 0.6333 - val_accuracy: 0.9279\n",
      "Epoch 24/64\n",
      "89/89 [==============================] - 49s 534ms/step - loss: 3.3082e-05 - accuracy: 1.0000 - val_loss: 0.8289 - val_accuracy: 0.9255\n",
      "Epoch 25/64\n",
      "89/89 [==============================] - 52s 566ms/step - loss: 2.3754e-05 - accuracy: 1.0000 - val_loss: 0.7041 - val_accuracy: 0.9279\n",
      "Epoch 26/64\n",
      "89/89 [==============================] - 48s 527ms/step - loss: 6.2884e-06 - accuracy: 1.0000 - val_loss: 0.7526 - val_accuracy: 0.9279\n",
      "Epoch 27/64\n",
      "89/89 [==============================] - 49s 538ms/step - loss: 4.7726e-06 - accuracy: 1.0000 - val_loss: 0.7074 - val_accuracy: 0.9375\n",
      "Epoch 28/64\n",
      "89/89 [==============================] - 42s 456ms/step - loss: 1.3482e-05 - accuracy: 1.0000 - val_loss: 0.7969 - val_accuracy: 0.9303\n",
      "Epoch 29/64\n",
      "89/89 [==============================] - 48s 537ms/step - loss: 5.6910e-06 - accuracy: 1.0000 - val_loss: 0.9426 - val_accuracy: 0.9279\n",
      "Epoch 30/64\n",
      "89/89 [==============================] - 41s 446ms/step - loss: 7.7267e-06 - accuracy: 1.0000 - val_loss: 0.9417 - val_accuracy: 0.9231\n",
      "Epoch 31/64\n",
      "89/89 [==============================] - 40s 443ms/step - loss: 2.8562e-06 - accuracy: 1.0000 - val_loss: 0.8130 - val_accuracy: 0.9327\n",
      "Epoch 32/64\n",
      "89/89 [==============================] - 41s 447ms/step - loss: 0.0167 - accuracy: 0.9993 - val_loss: 0.6597 - val_accuracy: 0.9303\n",
      "Epoch 33/64\n",
      "89/89 [==============================] - 41s 447ms/step - loss: 0.0043 - accuracy: 0.9986 - val_loss: 0.8813 - val_accuracy: 0.9207\n",
      "Epoch 34/64\n",
      "89/89 [==============================] - 40s 447ms/step - loss: 1.0030e-04 - accuracy: 1.0000 - val_loss: 0.5848 - val_accuracy: 0.9327\n",
      "Epoch 35/64\n",
      "89/89 [==============================] - 37s 413ms/step - loss: 1.5958e-04 - accuracy: 1.0000 - val_loss: 0.8498 - val_accuracy: 0.9327\n",
      "Epoch 36/64\n",
      "89/89 [==============================] - 37s 414ms/step - loss: 8.4681e-05 - accuracy: 1.0000 - val_loss: 0.8142 - val_accuracy: 0.9375\n",
      "Epoch 37/64\n",
      "89/89 [==============================] - 37s 414ms/step - loss: 2.2990e-06 - accuracy: 1.0000 - val_loss: 0.7409 - val_accuracy: 0.9327\n",
      "Epoch 38/64\n",
      "89/89 [==============================] - 37s 410ms/step - loss: 1.7219e-06 - accuracy: 1.0000 - val_loss: 0.8815 - val_accuracy: 0.9327\n",
      "Epoch 39/64\n",
      "89/89 [==============================] - 37s 412ms/step - loss: 1.4049e-06 - accuracy: 1.0000 - val_loss: 0.8856 - val_accuracy: 0.9327\n",
      "Epoch 40/64\n",
      "89/89 [==============================] - 37s 413ms/step - loss: 9.7323e-07 - accuracy: 1.0000 - val_loss: 0.7211 - val_accuracy: 0.9327\n",
      "Epoch 41/64\n",
      "89/89 [==============================] - 37s 415ms/step - loss: 1.1318e-06 - accuracy: 1.0000 - val_loss: 0.9742 - val_accuracy: 0.9207\n",
      "Epoch 42/64\n",
      "89/89 [==============================] - 37s 409ms/step - loss: 1.2340e-06 - accuracy: 1.0000 - val_loss: 0.8705 - val_accuracy: 0.9399\n",
      "Epoch 43/64\n",
      "89/89 [==============================] - 38s 417ms/step - loss: 1.0699e-06 - accuracy: 1.0000 - val_loss: 0.8008 - val_accuracy: 0.9279\n",
      "Epoch 44/64\n",
      "89/89 [==============================] - 37s 411ms/step - loss: 1.3811e-06 - accuracy: 1.0000 - val_loss: 0.8591 - val_accuracy: 0.9255\n",
      "Epoch 45/64\n",
      "89/89 [==============================] - 37s 409ms/step - loss: 1.3339e-06 - accuracy: 1.0000 - val_loss: 0.7362 - val_accuracy: 0.9303\n",
      "Epoch 46/64\n",
      "89/89 [==============================] - 37s 414ms/step - loss: 8.9562e-07 - accuracy: 1.0000 - val_loss: 0.9326 - val_accuracy: 0.9255\n",
      "Epoch 47/64\n",
      "89/89 [==============================] - 37s 415ms/step - loss: 1.1335e-06 - accuracy: 1.0000 - val_loss: 0.8185 - val_accuracy: 0.9399\n",
      "Epoch 48/64\n",
      "89/89 [==============================] - 37s 412ms/step - loss: 6.6670e-07 - accuracy: 1.0000 - val_loss: 0.7333 - val_accuracy: 0.9351\n",
      "Epoch 49/64\n",
      "89/89 [==============================] - 37s 411ms/step - loss: 9.2937e-07 - accuracy: 1.0000 - val_loss: 0.7353 - val_accuracy: 0.9303\n",
      "Epoch 50/64\n",
      "89/89 [==============================] - 37s 411ms/step - loss: 6.8285e-07 - accuracy: 1.0000 - val_loss: 0.7338 - val_accuracy: 0.9351\n",
      "Epoch 51/64\n",
      "89/89 [==============================] - 37s 415ms/step - loss: 7.7728e-07 - accuracy: 1.0000 - val_loss: 0.9886 - val_accuracy: 0.9255\n",
      "Epoch 52/64\n",
      "89/89 [==============================] - 37s 414ms/step - loss: 7.5159e-07 - accuracy: 1.0000 - val_loss: 0.7441 - val_accuracy: 0.9279\n",
      "Epoch 53/64\n",
      "89/89 [==============================] - 37s 412ms/step - loss: 5.0701e-07 - accuracy: 1.0000 - val_loss: 0.8212 - val_accuracy: 0.9327\n",
      "Epoch 54/64\n",
      "89/89 [==============================] - 37s 414ms/step - loss: 4.9641e-07 - accuracy: 1.0000 - val_loss: 0.9018 - val_accuracy: 0.9375\n",
      "Epoch 55/64\n",
      "89/89 [==============================] - 37s 411ms/step - loss: 5.9531e-07 - accuracy: 1.0000 - val_loss: 0.5703 - val_accuracy: 0.9447\n",
      "Epoch 56/64\n",
      "89/89 [==============================] - 37s 412ms/step - loss: 5.5091e-07 - accuracy: 1.0000 - val_loss: 0.7952 - val_accuracy: 0.9255\n",
      "Epoch 57/64\n",
      "89/89 [==============================] - 38s 424ms/step - loss: 6.4286e-07 - accuracy: 1.0000 - val_loss: 0.9832 - val_accuracy: 0.9303\n",
      "Epoch 58/64\n",
      "89/89 [==============================] - 38s 423ms/step - loss: 3.6741e-07 - accuracy: 1.0000 - val_loss: 0.8553 - val_accuracy: 0.9351\n",
      "Epoch 59/64\n",
      "89/89 [==============================] - 38s 417ms/step - loss: 3.5084e-07 - accuracy: 1.0000 - val_loss: 0.7036 - val_accuracy: 0.9351\n",
      "Epoch 60/64\n",
      "89/89 [==============================] - 38s 419ms/step - loss: 4.1844e-07 - accuracy: 1.0000 - val_loss: 0.8606 - val_accuracy: 0.9279\n",
      "Epoch 61/64\n",
      "89/89 [==============================] - 38s 418ms/step - loss: 3.2269e-07 - accuracy: 1.0000 - val_loss: 0.7353 - val_accuracy: 0.9423\n",
      "Epoch 62/64\n",
      "89/89 [==============================] - 38s 418ms/step - loss: 4.1062e-07 - accuracy: 1.0000 - val_loss: 0.7591 - val_accuracy: 0.9327\n",
      "Epoch 63/64\n",
      "89/89 [==============================] - 38s 420ms/step - loss: 3.1021e-07 - accuracy: 1.0000 - val_loss: 0.8490 - val_accuracy: 0.9303\n",
      "Epoch 64/64\n",
      "89/89 [==============================] - 38s 422ms/step - loss: 3.8649e-07 - accuracy: 1.0000 - val_loss: 1.0192 - val_accuracy: 0.9279\n"
     ]
    }
   ],
   "source": [
    "hist = model.fit(train, epochs=epochs, validation_data=val, callbacks=[tensorboard_callback])"
   ]
  },
  {
   "cell_type": "markdown",
   "metadata": {},
   "source": [
    "# 7. Plot Performance"
   ]
  },
  {
   "cell_type": "code",
   "execution_count": 20,
   "metadata": {
    "ExecuteTime": {
     "end_time": "2024-01-10T08:04:45.214033300Z",
     "start_time": "2024-01-10T08:04:45.076491300Z"
    }
   },
   "outputs": [
    {
     "data": {
      "text/plain": "<Figure size 640x480 with 1 Axes>",
      "image/png": "[encoded data removed]"
     },
     "metadata": {},
     "output_type": "display_data"
    }
   ],
   "source": [
    "fig = plt.figure()\n",
    "plt.plot(hist.history['loss'], color='teal', label='loss')\n",
    "plt.plot(hist.history['val_loss'], color='orange', label='val_loss')\n",
    "fig.suptitle('Loss', fontsize=20)\n",
    "plt.legend(loc=\"upper left\")\n",
    "plt.show()"
   ]
  },
  {
   "cell_type": "code",
   "execution_count": 21,
   "metadata": {
    "ExecuteTime": {
     "end_time": "2024-01-10T08:04:45.288548900Z",
     "start_time": "2024-01-10T08:04:45.204527Z"
    }
   },
   "outputs": [
    {
     "data": {
      "text/plain": "<Figure size 640x480 with 1 Axes>",
      "image/png": "[encoded data removed]"
     },
     "metadata": {},
     "output_type": "display_data"
    }
   ],
   "source": [
    "fig = plt.figure()\n",
    "plt.plot(hist.history['accuracy'], color='teal', label='accuracy')\n",
    "plt.plot(hist.history['val_accuracy'], color='orange', label='val_accuracy')\n",
    "fig.suptitle('Accuracy', fontsize=20)\n",
    "plt.legend(loc=\"upper left\")\n",
    "plt.show()"
   ]
  },
  {
   "cell_type": "markdown",
   "metadata": {},
   "source": [
    "# 8. Evaluate"
   ]
  },
  {
   "cell_type": "code",
   "execution_count": 22,
   "metadata": {
    "ExecuteTime": {
     "end_time": "2024-01-10T08:04:45.353066700Z",
     "start_time": "2024-01-10T08:04:45.281548600Z"
    }
   },
   "outputs": [],
   "source": [
    "from tensorflow.keras.metrics import Precision, Recall, BinaryAccuracy"
   ]
  },
  {
   "cell_type": "code",
   "execution_count": 23,
   "metadata": {
    "ExecuteTime": {
     "end_time": "2024-01-10T08:04:45.355068900Z",
     "start_time": "2024-01-10T08:04:45.297548700Z"
    }
   },
   "outputs": [],
   "source": [
    "pre = Precision()\n",
    "re = Recall()\n",
    "acc = BinaryAccuracy()"
   ]
  },
  {
   "cell_type": "code",
   "execution_count": 24,
   "metadata": {
    "ExecuteTime": {
     "end_time": "2024-01-10T08:04:53.936571500Z",
     "start_time": "2024-01-10T08:04:45.314060900Z"
    }
   },
   "outputs": [],
   "source": [
    "for batch in test.as_numpy_iterator(): \n",
    "    X, y = batch\n",
    "    yhat = model.predict(X)\n",
    "    pre.update_state(y, yhat)\n",
    "    re.update_state(y, yhat)\n",
    "    acc.update_state(y, yhat)"
   ]
  },
  {
   "cell_type": "code",
   "execution_count": 25,
   "metadata": {
    "ExecuteTime": {
     "end_time": "2024-01-10T08:04:53.952087900Z",
     "start_time": "2024-01-10T08:04:53.937573700Z"
    }
   },
   "outputs": [
    {
     "name": "stdout",
     "output_type": "stream",
     "text": [
      "Precision:  tf.Tensor(0.9117647, shape=(), dtype=float32)\n",
      "Recall:  tf.Tensor(0.93, shape=(), dtype=float32)\n",
      "Binary Accuracy:  tf.Tensor(0.90625, shape=(), dtype=float32)\n"
     ]
    }
   ],
   "source": [
    "print(\"Precision: \", pre.result())\n",
    "print(\"Recall: \", re.result())\n",
    "print(\"Binary Accuracy: \", acc.result())"
   ]
  },
  {
   "cell_type": "markdown",
   "metadata": {},
   "source": [
    "# 9. Test"
   ]
  },
  {
   "cell_type": "code",
   "execution_count": 26,
   "metadata": {
    "ExecuteTime": {
     "end_time": "2024-01-10T08:04:54.107604300Z",
     "start_time": "2024-01-10T08:04:53.953088Z"
    }
   },
   "outputs": [],
   "source": [
    "img0 = cv2.imread('test/897.jpg')\n",
    "img1 = cv2.imread('test/1253.jpg')\n",
    "img2 = cv2.imread('test/1254.jpg')\n",
    "img3 = cv2.imread('test/1305.jpg')\n",
    "img4 = cv2.imread('test/1470.jpg')\n",
    "\n",
    "img5 = cv2.imread('test/1547.jpg')\n",
    "img6 = cv2.imread('test/1430.jpg')\n",
    "img7 = cv2.imread('test/1431.jpg')\n",
    "img8 = cv2.imread('test/1466.jpg')\n",
    "img9 = cv2.imread('test/1515.jpg')\n",
    "#plt.imshow(cv2.cvtColor(img0, cv2.COLOR_BGR2RGB))\n",
    "#plt.show()"
   ]
  },
  {
   "cell_type": "code",
   "execution_count": 27,
   "metadata": {
    "ExecuteTime": {
     "end_time": "2024-01-10T08:04:54.202117Z",
     "start_time": "2024-01-10T08:04:54.109605200Z"
    }
   },
   "outputs": [],
   "source": [
    "resize0 = tf.image.resize(img0, (imgsize,imgsize))\n",
    "resize1 = tf.image.resize(img1, (imgsize,imgsize))\n",
    "resize2 = tf.image.resize(img2, (imgsize,imgsize))\n",
    "resize3 = tf.image.resize(img3, (imgsize,imgsize))\n",
    "resize4 = tf.image.resize(img4, (imgsize,imgsize))\n",
    "\n",
    "resize5 = tf.image.resize(img5, (imgsize,imgsize))\n",
    "resize6 = tf.image.resize(img6, (imgsize,imgsize))\n",
    "resize7 = tf.image.resize(img7, (imgsize,imgsize))\n",
    "resize8 = tf.image.resize(img8, (imgsize,imgsize))\n",
    "resize9 = tf.image.resize(img9, (imgsize,imgsize))\n",
    "#plt.imshow(resize0.numpy().astype(int))\n",
    "#plt.show()"
   ]
  },
  {
   "cell_type": "code",
   "execution_count": 28,
   "metadata": {
    "ExecuteTime": {
     "end_time": "2024-01-10T08:04:54.783803800Z",
     "start_time": "2024-01-10T08:04:54.204116500Z"
    }
   },
   "outputs": [],
   "source": [
    "#yhat0 = model.predict(np.expand_dims(resize0/255, 0))\n",
    "yhat0 = model.predict(np.expand_dims(resize0/255, 0))[0][0]\n",
    "yhat1 = model.predict(np.expand_dims(resize1/255, 0))[0][0]\n",
    "yhat2 = model.predict(np.expand_dims(resize2/255, 0))[0][0]\n",
    "yhat3 = model.predict(np.expand_dims(resize3/255, 0))[0][0]\n",
    "yhat4 = model.predict(np.expand_dims(resize4/255, 0))[0][0]\n",
    "\n",
    "yhat5 = model.predict(np.expand_dims(resize5/255, 0))[0][0]\n",
    "yhat6 = model.predict(np.expand_dims(resize6/255, 0))[0][0]\n",
    "yhat7 = model.predict(np.expand_dims(resize7/255, 0))[0][0]\n",
    "yhat8 = model.predict(np.expand_dims(resize8/255, 0))[0][0]\n",
    "yhat9 = model.predict(np.expand_dims(resize9/255, 0))[0][0]"
   ]
  },
  {
   "cell_type": "code",
   "execution_count": 29,
   "metadata": {
    "collapsed": false,
    "ExecuteTime": {
     "end_time": "2024-01-10T08:04:54.811320900Z",
     "start_time": "2024-01-10T08:04:54.784804500Z"
    }
   },
   "outputs": [
    {
     "name": "stdout",
     "output_type": "stream",
     "text": [
      "0.00338010094  - Want 1.0\n",
      "0.00303077279  - Want 1.0\n",
      "0.99999022484  - Want 1.0\n",
      "0.00004911813  - Want 1.0\n",
      "0.47386518121  - Want 1.0\n",
      "------------------------\n",
      "0.00002460504  - Want 0.0\n",
      "0.00000000000  - Want 0.0\n",
      "0.00046823698  - Want 0.0\n",
      "0.99990236759  - Want 0.0\n",
      "0.00000000000  - Want 0.0\n"
     ]
    }
   ],
   "source": [
    "print(\"{:.11f}\".format(yhat0), \" - Want 1.0\")\n",
    "print(\"{:.11f}\".format(yhat1), \" - Want 1.0\")\n",
    "print(\"{:.11f}\".format(yhat2), \" - Want 1.0\")\n",
    "print(\"{:.11f}\".format(yhat3), \" - Want 1.0\")\n",
    "print(\"{:.11f}\".format(yhat4), \" - Want 1.0\")\n",
    "print(\"------------------------\")\n",
    "print(\"{:.11f}\".format(yhat5), \" - Want 0.0\")\n",
    "print(\"{:.11f}\".format(yhat6), \" - Want 0.0\")\n",
    "print(\"{:.11f}\".format(yhat7), \" - Want 0.0\")\n",
    "print(\"{:.11f}\".format(yhat8), \" - Want 0.0\")\n",
    "print(\"{:.11f}\".format(yhat9), \" - Want 0.0\")"
   ]
  },
  {
   "cell_type": "markdown",
   "metadata": {},
   "source": [
    "# 11. Save the Model"
   ]
  },
  {
   "cell_type": "code",
   "execution_count": 30,
   "metadata": {
    "ExecuteTime": {
     "end_time": "2024-01-10T08:04:54.834833100Z",
     "start_time": "2024-01-10T08:04:54.800318100Z"
    }
   },
   "outputs": [],
   "source": [
    "#from tensorflow.keras.models import load_model"
   ]
  },
  {
   "cell_type": "code",
   "execution_count": 31,
   "metadata": {
    "ExecuteTime": {
     "end_time": "2024-01-10T08:04:54.835834900Z",
     "start_time": "2024-01-10T08:04:54.815321900Z"
    }
   },
   "outputs": [],
   "source": [
    "#model.save(os.path.join('models','imageclassifier.h5'))"
   ]
  },
  {
   "cell_type": "code",
   "execution_count": 32,
   "metadata": {
    "ExecuteTime": {
     "end_time": "2024-01-10T08:04:54.849833800Z",
     "start_time": "2024-01-10T08:04:54.830835400Z"
    }
   },
   "outputs": [],
   "source": [
    "#new_model = load_model(os.path.join('models', 'imageclassifier.h5'))"
   ]
  },
  {
   "cell_type": "code",
   "execution_count": 33,
   "metadata": {
    "ExecuteTime": {
     "end_time": "2024-01-10T08:04:54.868836Z",
     "start_time": "2024-01-10T08:04:54.846836200Z"
    }
   },
   "outputs": [],
   "source": [
    "#yhatnew = new_model.predict(np.expand_dims(resize0/255, 0))"
   ]
  },
  {
   "cell_type": "code",
   "execution_count": 34,
   "metadata": {
    "collapsed": false,
    "ExecuteTime": {
     "end_time": "2024-01-10T08:04:54.881836400Z",
     "start_time": "2024-01-10T08:04:54.862835900Z"
    }
   },
   "outputs": [],
   "source": [
    "#yhatnew"
   ]
  },
  {
   "cell_type": "markdown",
   "metadata": {
    "collapsed": false
   },
   "source": [
    "# 12. Release Memory"
   ]
  },
  {
   "cell_type": "code",
   "execution_count": 35,
   "metadata": {
    "collapsed": false,
    "ExecuteTime": {
     "end_time": "2024-01-10T08:04:54.900832100Z",
     "start_time": "2024-01-10T08:04:54.878835800Z"
    }
   },
   "outputs": [],
   "source": [
    "from keras import backend as kbe\n",
    "kbe.clear_session()"
   ]
  },
  {
   "cell_type": "code",
   "execution_count": 36,
   "metadata": {
    "collapsed": false,
    "ExecuteTime": {
     "end_time": "2024-01-10T08:04:56.696120900Z",
     "start_time": "2024-01-10T08:04:54.894834900Z"
    }
   },
   "outputs": [],
   "source": [
    "from numba import cuda\n",
    "cuda.select_device(0)\n",
    "cuda.close()"
   ]
  },
  {
   "cell_type": "code",
   "outputs": [],
   "source": [],
   "metadata": {
    "collapsed": false,
    "ExecuteTime": {
     "end_time": "2024-01-10T08:04:56.711126900Z",
     "start_time": "2024-01-10T08:04:56.697121600Z"
    }
   },
   "execution_count": 36
  }
 ],
 "metadata": {
  "kernelspec": {
   "display_name": "Python 3 (ipykernel)",
   "language": "python",
   "name": "python3"
  },
  "language_info": {
   "codemirror_mode": {
    "name": "ipython",
    "version": 3
   },
   "file_extension": ".py",
   "mimetype": "text/x-python",
   "name": "python",
   "nbconvert_exporter": "python",
   "pygments_lexer": "ipython3",
   "version": "3.9.13"
  }
 },
 "nbformat": 4,
 "nbformat_minor": 4
}
