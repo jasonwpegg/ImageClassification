{
 "cells": [
  {
   "cell_type": "markdown",
   "metadata": {},
   "source": [
    "# 1. Install Dependencies and Setup"
   ]
  },
  {
   "cell_type": "code",
   "execution_count": 1,
   "metadata": {
    "collapsed": false,
    "ExecuteTime": {
     "end_time": "2024-01-10T05:42:53.050258500Z",
     "start_time": "2024-01-10T05:42:53.034568200Z"
    }
   },
   "outputs": [
    {
     "name": "stdout",
     "output_type": "stream",
     "text": [
      "Hello, world!\n"
     ]
    }
   ],
   "source": [
    "print(\"Hello, world!\")"
   ]
  },
  {
   "cell_type": "code",
   "execution_count": 2,
   "metadata": {
    "ExecuteTime": {
     "end_time": "2024-01-10T05:42:56.065523Z",
     "start_time": "2024-01-10T05:42:54.753434100Z"
    }
   },
   "outputs": [],
   "source": [
    "import tensorflow as tf\n",
    "import os\n",
    "import cv2\n",
    "import numpy as np\n",
    "from matplotlib import pyplot as plt"
   ]
  },
  {
   "cell_type": "code",
   "outputs": [],
   "source": [
    "imgsize = 1024\n",
    "batchsize = 16\n",
    "data_dir = 'data2'\n",
    "epochs = 31"
   ],
   "metadata": {
    "collapsed": false,
    "ExecuteTime": {
     "end_time": "2024-01-10T05:42:57.391399100Z",
     "start_time": "2024-01-10T05:42:57.371223200Z"
    }
   },
   "execution_count": 3
  },
  {
   "cell_type": "code",
   "execution_count": 4,
   "metadata": {
    "ExecuteTime": {
     "end_time": "2024-01-10T05:43:01.033056100Z",
     "start_time": "2024-01-10T05:43:00.986302Z"
    }
   },
   "outputs": [],
   "source": [
    "# Avoid OOM errors by setting GPU Memory Consumption Growth\n",
    "gpus = tf.config.experimental.list_physical_devices('GPU')\n",
    "for gpu in gpus: \n",
    "    tf.config.experimental.set_memory_growth(gpu, True)"
   ]
  },
  {
   "cell_type": "code",
   "execution_count": 5,
   "metadata": {
    "tags": [],
    "ExecuteTime": {
     "end_time": "2024-01-10T05:43:01.990277800Z",
     "start_time": "2024-01-10T05:43:01.975543400Z"
    }
   },
   "outputs": [
    {
     "data": {
      "text/plain": "[PhysicalDevice(name='/physical_device:GPU:0', device_type='GPU')]"
     },
     "execution_count": 5,
     "metadata": {},
     "output_type": "execute_result"
    }
   ],
   "source": [
    "tf.config.list_physical_devices('GPU')"
   ]
  },
  {
   "cell_type": "markdown",
   "metadata": {},
   "source": [
    "# 3. Load and Scale Data"
   ]
  },
  {
   "cell_type": "code",
   "execution_count": 6,
   "metadata": {
    "ExecuteTime": {
     "end_time": "2024-01-10T05:45:39.203279400Z",
     "start_time": "2024-01-10T05:45:38.409119300Z"
    }
   },
   "outputs": [
    {
     "name": "stdout",
     "output_type": "stream",
     "text": [
      "Found 2024 files belonging to 2 classes.\n"
     ]
    }
   ],
   "source": [
    "data = tf.keras.utils.image_dataset_from_directory(data_dir, batch_size=batchsize, image_size=(imgsize, imgsize))"
   ]
  },
  {
   "cell_type": "code",
   "execution_count": 7,
   "metadata": {
    "ExecuteTime": {
     "end_time": "2024-01-10T05:45:44.646846900Z",
     "start_time": "2024-01-10T05:45:44.629648300Z"
    }
   },
   "outputs": [],
   "source": [
    "data = data.map(lambda x,y: (x/255, y))"
   ]
  },
  {
   "cell_type": "markdown",
   "source": [
    "# 4. Split Data"
   ],
   "metadata": {
    "collapsed": false
   }
  },
  {
   "cell_type": "code",
   "execution_count": 8,
   "metadata": {
    "collapsed": false,
    "ExecuteTime": {
     "end_time": "2024-01-10T05:45:50.522311600Z",
     "start_time": "2024-01-10T05:45:50.503536200Z"
    }
   },
   "outputs": [
    {
     "data": {
      "text/plain": "127"
     },
     "execution_count": 8,
     "metadata": {},
     "output_type": "execute_result"
    }
   ],
   "source": [
    "len(data)"
   ]
  },
  {
   "cell_type": "code",
   "execution_count": 14,
   "metadata": {
    "ExecuteTime": {
     "end_time": "2024-01-10T05:47:49.046694400Z",
     "start_time": "2024-01-10T05:47:49.023408300Z"
    }
   },
   "outputs": [],
   "source": [
    "train_size = int(len(data)*.7)+1\n",
    "val_size = int(len(data)*.2)+1\n",
    "test_size = int(len(data)*.1)"
   ]
  },
  {
   "cell_type": "code",
   "outputs": [
    {
     "name": "stdout",
     "output_type": "stream",
     "text": [
      "Train size:  89\n",
      "Val size:  26\n",
      "Test size:  12\n",
      "Total size:  127\n"
     ]
    }
   ],
   "source": [
    "print(\"Train size: \", train_size)\n",
    "print(\"Val size: \", val_size)\n",
    "print(\"Test size: \", test_size)\n",
    "print(\"Total size: \", train_size+val_size+test_size)"
   ],
   "metadata": {
    "collapsed": false,
    "ExecuteTime": {
     "end_time": "2024-01-10T05:47:49.502483700Z",
     "start_time": "2024-01-10T05:47:49.488700900Z"
    }
   },
   "execution_count": 15
  },
  {
   "cell_type": "code",
   "execution_count": 16,
   "metadata": {
    "ExecuteTime": {
     "end_time": "2024-01-10T05:48:32.787784900Z",
     "start_time": "2024-01-10T05:48:32.770580400Z"
    }
   },
   "outputs": [],
   "source": [
    "train = data.take(train_size)\n",
    "val = data.skip(train_size).take(val_size)\n",
    "test = data.skip(train_size+val_size).take(test_size)"
   ]
  },
  {
   "cell_type": "markdown",
   "metadata": {},
   "source": [
    "# 5. Build Deep Learning Model"
   ]
  },
  {
   "cell_type": "code",
   "execution_count": 17,
   "metadata": {
    "ExecuteTime": {
     "end_time": "2024-01-10T05:48:37.812842200Z",
     "start_time": "2024-01-10T05:48:37.799052400Z"
    }
   },
   "outputs": [],
   "source": [
    "from tensorflow.keras.models import Sequential\n",
    "from tensorflow.keras.layers import Conv2D, MaxPooling2D, Dense, Flatten"
   ]
  },
  {
   "cell_type": "code",
   "execution_count": 18,
   "metadata": {
    "ExecuteTime": {
     "end_time": "2024-01-10T05:48:40.721896600Z",
     "start_time": "2024-01-10T05:48:40.689399900Z"
    }
   },
   "outputs": [],
   "source": [
    "model = Sequential()"
   ]
  },
  {
   "cell_type": "code",
   "execution_count": 19,
   "metadata": {
    "ExecuteTime": {
     "end_time": "2024-01-10T05:48:51.283490400Z",
     "start_time": "2024-01-10T05:48:50.790304300Z"
    }
   },
   "outputs": [],
   "source": [
    "model.add(Conv2D(32, (7,7), 1, activation='relu', input_shape=(imgsize,imgsize,3)))\n",
    "model.add(MaxPooling2D())\n",
    "\n",
    "model.add(Conv2D(64, (5,5), 1, activation='relu'))\n",
    "model.add(MaxPooling2D())\n",
    "\n",
    "model.add(Conv2D(128, (3,3), 1, activation='relu'))\n",
    "model.add(MaxPooling2D())\n",
    "\n",
    "model.add(Conv2D(256, (3,3), 1, activation='relu'))\n",
    "model.add(MaxPooling2D())\n",
    "\n",
    "model.add(Flatten())\n",
    "\n",
    "model.add(Dense(512, activation='relu'))\n",
    "model.add(Dense(512, activation='relu'))\n",
    "model.add(Dense(1, activation='sigmoid'))"
   ]
  },
  {
   "cell_type": "code",
   "execution_count": 20,
   "metadata": {
    "ExecuteTime": {
     "end_time": "2024-01-10T05:48:53.085294Z",
     "start_time": "2024-01-10T05:48:53.063145Z"
    }
   },
   "outputs": [],
   "source": [
    "model.compile('adam', loss=tf.losses.BinaryCrossentropy(), metrics=['accuracy'])"
   ]
  },
  {
   "cell_type": "code",
   "execution_count": 21,
   "metadata": {
    "tags": [],
    "ExecuteTime": {
     "end_time": "2024-01-10T05:48:55.611646900Z",
     "start_time": "2024-01-10T05:48:55.593910800Z"
    }
   },
   "outputs": [
    {
     "name": "stdout",
     "output_type": "stream",
     "text": [
      "Model: \"sequential\"\n",
      "_________________________________________________________________\n",
      " Layer (type)                Output Shape              Param #   \n",
      "=================================================================\n",
      " conv2d (Conv2D)             (None, 1018, 1018, 32)    4736      \n",
      "                                                                 \n",
      " max_pooling2d (MaxPooling2D  (None, 509, 509, 32)     0         \n",
      " )                                                               \n",
      "                                                                 \n",
      " conv2d_1 (Conv2D)           (None, 505, 505, 64)      51264     \n",
      "                                                                 \n",
      " max_pooling2d_1 (MaxPooling  (None, 252, 252, 64)     0         \n",
      " 2D)                                                             \n",
      "                                                                 \n",
      " conv2d_2 (Conv2D)           (None, 250, 250, 128)     73856     \n",
      "                                                                 \n",
      " max_pooling2d_2 (MaxPooling  (None, 125, 125, 128)    0         \n",
      " 2D)                                                             \n",
      "                                                                 \n",
      " conv2d_3 (Conv2D)           (None, 123, 123, 256)     295168    \n",
      "                                                                 \n",
      " max_pooling2d_3 (MaxPooling  (None, 61, 61, 256)      0         \n",
      " 2D)                                                             \n",
      "                                                                 \n",
      " flatten (Flatten)           (None, 952576)            0         \n",
      "                                                                 \n",
      " dense (Dense)               (None, 512)               487719424 \n",
      "                                                                 \n",
      " dense_1 (Dense)             (None, 512)               262656    \n",
      "                                                                 \n",
      " dense_2 (Dense)             (None, 1)                 513       \n",
      "                                                                 \n",
      "=================================================================\n",
      "Total params: 488,407,617\n",
      "Trainable params: 488,407,617\n",
      "Non-trainable params: 0\n",
      "_________________________________________________________________\n"
     ]
    }
   ],
   "source": [
    "model.summary()"
   ]
  },
  {
   "cell_type": "markdown",
   "metadata": {},
   "source": [
    "# 6. Train"
   ]
  },
  {
   "cell_type": "code",
   "execution_count": 22,
   "metadata": {
    "ExecuteTime": {
     "end_time": "2024-01-10T05:49:08.195120100Z",
     "start_time": "2024-01-10T05:49:08.183285700Z"
    }
   },
   "outputs": [],
   "source": [
    "logdir='logs'"
   ]
  },
  {
   "cell_type": "code",
   "execution_count": 23,
   "metadata": {
    "ExecuteTime": {
     "end_time": "2024-01-10T05:49:08.664277600Z",
     "start_time": "2024-01-10T05:49:08.652989900Z"
    }
   },
   "outputs": [],
   "source": [
    "tensorboard_callback = tf.keras.callbacks.TensorBoard(log_dir=logdir)"
   ]
  },
  {
   "cell_type": "code",
   "execution_count": null,
   "metadata": {
    "scrolled": true,
    "tags": [],
    "is_executing": true,
    "ExecuteTime": {
     "start_time": "2024-01-10T05:49:11.399243500Z"
    }
   },
   "outputs": [
    {
     "name": "stdout",
     "output_type": "stream",
     "text": [
      "Epoch 1/31\n",
      "89/89 [==============================] - 43s 409ms/step - loss: 0.9047 - accuracy: 0.7451 - val_loss: 0.2357 - val_accuracy: 0.8870\n",
      "Epoch 2/31\n",
      "89/89 [==============================] - 36s 403ms/step - loss: 0.4009 - accuracy: 0.8371 - val_loss: 0.2613 - val_accuracy: 0.8774\n",
      "Epoch 3/31\n",
      "61/89 [===================>..........] - ETA: 8s - loss: 0.2357 - accuracy: 0.9068"
     ]
    }
   ],
   "source": [
    "hist = model.fit(train, epochs=epochs, validation_data=val, callbacks=[tensorboard_callback])"
   ]
  },
  {
   "cell_type": "markdown",
   "metadata": {},
   "source": [
    "# 7. Plot Performance"
   ]
  },
  {
   "cell_type": "code",
   "execution_count": null,
   "metadata": {},
   "outputs": [],
   "source": [
    "fig = plt.figure()\n",
    "plt.plot(hist.history['loss'], color='teal', label='loss')\n",
    "plt.plot(hist.history['val_loss'], color='orange', label='val_loss')\n",
    "fig.suptitle('Loss', fontsize=20)\n",
    "plt.legend(loc=\"upper left\")\n",
    "plt.show()"
   ]
  },
  {
   "cell_type": "code",
   "execution_count": null,
   "metadata": {},
   "outputs": [],
   "source": [
    "fig = plt.figure()\n",
    "plt.plot(hist.history['accuracy'], color='teal', label='accuracy')\n",
    "plt.plot(hist.history['val_accuracy'], color='orange', label='val_accuracy')\n",
    "fig.suptitle('Accuracy', fontsize=20)\n",
    "plt.legend(loc=\"upper left\")\n",
    "plt.show()"
   ]
  },
  {
   "cell_type": "markdown",
   "metadata": {},
   "source": [
    "# 8. Evaluate"
   ]
  },
  {
   "cell_type": "code",
   "execution_count": null,
   "metadata": {},
   "outputs": [],
   "source": [
    "from tensorflow.keras.metrics import Precision, Recall, BinaryAccuracy"
   ]
  },
  {
   "cell_type": "code",
   "execution_count": null,
   "metadata": {},
   "outputs": [],
   "source": [
    "pre = Precision()\n",
    "re = Recall()\n",
    "acc = BinaryAccuracy()"
   ]
  },
  {
   "cell_type": "code",
   "execution_count": null,
   "metadata": {},
   "outputs": [],
   "source": [
    "for batch in test.as_numpy_iterator(): \n",
    "    X, y = batch\n",
    "    yhat = model.predict(X)\n",
    "    pre.update_state(y, yhat)\n",
    "    re.update_state(y, yhat)\n",
    "    acc.update_state(y, yhat)"
   ]
  },
  {
   "cell_type": "code",
   "execution_count": null,
   "metadata": {},
   "outputs": [],
   "source": [
    "print(pre.result(), re.result(), acc.result())"
   ]
  },
  {
   "cell_type": "markdown",
   "metadata": {},
   "source": [
    "# 9. Test"
   ]
  },
  {
   "cell_type": "code",
   "execution_count": null,
   "metadata": {},
   "outputs": [],
   "source": [
    "img0 = cv2.imread('test/897.jpg')\n",
    "img1 = cv2.imread('test/1253.jpg')\n",
    "img2 = cv2.imread('test/1254.jpg')\n",
    "img3 = cv2.imread('test/1305.jpg')\n",
    "img4 = cv2.imread('test/1470.jpg')\n",
    "\n",
    "img5 = cv2.imread('test/1547.jpg')\n",
    "img6 = cv2.imread('test/1430.jpg')\n",
    "img7 = cv2.imread('test/1431.jpg')\n",
    "img8 = cv2.imread('test/1466.jpg')\n",
    "img9 = cv2.imread('test/1515.jpg')\n",
    "#plt.imshow(cv2.cvtColor(img0, cv2.COLOR_BGR2RGB))\n",
    "#plt.show()"
   ]
  },
  {
   "cell_type": "code",
   "execution_count": null,
   "metadata": {},
   "outputs": [],
   "source": [
    "resize0 = tf.image.resize(img0, (imgsize,imgsize))\n",
    "resize1 = tf.image.resize(img1, (imgsize,imgsize))\n",
    "resize2 = tf.image.resize(img2, (imgsize,imgsize))\n",
    "resize3 = tf.image.resize(img3, (imgsize,imgsize))\n",
    "resize4 = tf.image.resize(img4, (imgsize,imgsize))\n",
    "\n",
    "resize5 = tf.image.resize(img5, (imgsize,imgsize))\n",
    "resize6 = tf.image.resize(img6, (imgsize,imgsize))\n",
    "resize7 = tf.image.resize(img7, (imgsize,imgsize))\n",
    "resize8 = tf.image.resize(img8, (imgsize,imgsize))\n",
    "resize9 = tf.image.resize(img9, (imgsize,imgsize))\n",
    "#plt.imshow(resize0.numpy().astype(int))\n",
    "#plt.show()"
   ]
  },
  {
   "cell_type": "code",
   "execution_count": null,
   "metadata": {},
   "outputs": [],
   "source": [
    "#yhat0 = model.predict(np.expand_dims(resize0/255, 0))\n",
    "yhat0 = model.predict(np.expand_dims(resize0/255, 0))[0][0]\n",
    "yhat1 = model.predict(np.expand_dims(resize1/255, 0))[0][0]\n",
    "yhat2 = model.predict(np.expand_dims(resize2/255, 0))[0][0]\n",
    "yhat3 = model.predict(np.expand_dims(resize3/255, 0))[0][0]\n",
    "yhat4 = model.predict(np.expand_dims(resize4/255, 0))[0][0]\n",
    "\n",
    "yhat5 = model.predict(np.expand_dims(resize5/255, 0))[0][0]\n",
    "yhat6 = model.predict(np.expand_dims(resize6/255, 0))[0][0]\n",
    "yhat7 = model.predict(np.expand_dims(resize7/255, 0))[0][0]\n",
    "yhat8 = model.predict(np.expand_dims(resize8/255, 0))[0][0]\n",
    "yhat9 = model.predict(np.expand_dims(resize9/255, 0))[0][0]"
   ]
  },
  {
   "cell_type": "code",
   "execution_count": null,
   "metadata": {
    "collapsed": false
   },
   "outputs": [],
   "source": [
    "# should be 1\n",
    "print(\"{:.11f}\".format(yhat0), \" - Want 1.0\")\n",
    "print(\"{:.11f}\".format(yhat1), \" - Want 1.0\")\n",
    "print(\"{:.11f}\".format(yhat2), \" - Want 1.0\")\n",
    "print(\"{:.11f}\".format(yhat3), \" - Want 1.0\")\n",
    "print(\"{:.11f}\".format(yhat4), \" - Want 1.0\")\n",
    "print(\"------------------------\")\n",
    "print(\"{:.11f}\".format(yhat5), \" - Want 0.0\")\n",
    "print(\"{:.11f}\".format(yhat6), \" - Want 0.0\")\n",
    "print(\"{:.11f}\".format(yhat7), \" - Want 0.0\")\n",
    "print(\"{:.11f}\".format(yhat8), \" - Want 0.0\")\n",
    "print(\"{:.11f}\".format(yhat9), \" - Want 0.0\")"
   ]
  },
  {
   "cell_type": "markdown",
   "metadata": {},
   "source": [
    "# 11. Save the Model"
   ]
  },
  {
   "cell_type": "code",
   "execution_count": null,
   "metadata": {},
   "outputs": [],
   "source": [
    "#from tensorflow.keras.models import load_model"
   ]
  },
  {
   "cell_type": "code",
   "execution_count": null,
   "metadata": {},
   "outputs": [],
   "source": [
    "#model.save(os.path.join('models','imageclassifier.h5'))"
   ]
  },
  {
   "cell_type": "code",
   "execution_count": null,
   "metadata": {},
   "outputs": [],
   "source": [
    "#new_model = load_model(os.path.join('models', 'imageclassifier.h5'))"
   ]
  },
  {
   "cell_type": "code",
   "execution_count": null,
   "metadata": {},
   "outputs": [],
   "source": [
    "#yhatnew = new_model.predict(np.expand_dims(resize0/255, 0))"
   ]
  },
  {
   "cell_type": "code",
   "execution_count": null,
   "metadata": {
    "collapsed": false
   },
   "outputs": [],
   "source": [
    "#yhatnew"
   ]
  },
  {
   "cell_type": "markdown",
   "metadata": {
    "collapsed": false
   },
   "source": [
    "# 12. Release Memory"
   ]
  },
  {
   "cell_type": "code",
   "execution_count": null,
   "metadata": {
    "collapsed": false
   },
   "outputs": [],
   "source": [
    "from keras import backend as kbe\n",
    "kbe.clear_session()"
   ]
  },
  {
   "cell_type": "code",
   "execution_count": null,
   "metadata": {
    "collapsed": false
   },
   "outputs": [],
   "source": [
    "from numba import cuda\n",
    "cuda.select_device(0)\n",
    "cuda.close()"
   ]
  }
 ],
 "metadata": {
  "kernelspec": {
   "display_name": "Python 3 (ipykernel)",
   "language": "python",
   "name": "python3"
  },
  "language_info": {
   "codemirror_mode": {
    "name": "ipython",
    "version": 3
   },
   "file_extension": ".py",
   "mimetype": "text/x-python",
   "name": "python",
   "nbconvert_exporter": "python",
   "pygments_lexer": "ipython3",
   "version": "3.9.13"
  }
 },
 "nbformat": 4,
 "nbformat_minor": 4
}
