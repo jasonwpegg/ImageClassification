{
 "cells": [
  {
   "cell_type": "markdown",
   "metadata": {},
   "source": [
    "# 1. Install Dependencies and Setup"
   ]
  },
  {
   "cell_type": "code",
   "execution_count": 1,
   "metadata": {
    "collapsed": false,
    "ExecuteTime": {
     "end_time": "2024-02-02T07:43:08.462838500Z",
     "start_time": "2024-02-02T07:43:08.366394400Z"
    }
   },
   "outputs": [
    {
     "name": "stdout",
     "output_type": "stream",
     "text": [
      "Hello, world!\n"
     ]
    }
   ],
   "source": [
    "print(\"Hello, world!\")"
   ]
  },
  {
   "cell_type": "code",
   "execution_count": 2,
   "metadata": {
    "ExecuteTime": {
     "end_time": "2024-02-02T07:43:09.849276700Z",
     "start_time": "2024-02-02T07:43:08.464790800Z"
    }
   },
   "outputs": [],
   "source": [
    "import tensorflow as tf\n",
    "import os\n",
    "import cv2\n",
    "import numpy as np\n",
    "from matplotlib import pyplot as plt\n",
    "#from keras import backend as k\n",
    "from keras import backend as k"
   ]
  },
  {
   "cell_type": "code",
   "outputs": [],
   "source": [
    "# set hyperprameters and top-level variables\n",
    "data_dir = 'data2'\n",
    "imgsize = 750\n",
    "batchsize = 32\n",
    "epochs = 7\n",
    "learning_rate = 1e-03\n",
    "epsilon = 1e-08"
   ],
   "metadata": {
    "collapsed": false,
    "ExecuteTime": {
     "end_time": "2024-02-02T07:43:09.862123600Z",
     "start_time": "2024-02-02T07:43:09.851259200Z"
    }
   },
   "execution_count": 3
  },
  {
   "cell_type": "code",
   "outputs": [],
   "source": [
    "# # Hide the GPU - forces CPU training\n",
    "# tf.config.set_visible_devices([], 'GPU')"
   ],
   "metadata": {
    "collapsed": false,
    "ExecuteTime": {
     "end_time": "2024-02-02T07:43:09.862123600Z",
     "start_time": "2024-02-02T07:43:09.854196200Z"
    }
   },
   "execution_count": 4
  },
  {
   "cell_type": "code",
   "execution_count": 5,
   "metadata": {
    "ExecuteTime": {
     "end_time": "2024-02-02T07:43:09.891023800Z",
     "start_time": "2024-02-02T07:43:09.857681100Z"
    }
   },
   "outputs": [],
   "source": [
    "# Avoid OOM errors by setting GPU Memory Consumption Growth\n",
    "gpus = tf.config.experimental.list_physical_devices('GPU')\n",
    "for gpu in gpus: \n",
    "   tf.config.experimental.set_memory_growth(gpu, True)\n",
    "   #tf.config.experimental.set_virtual_device_configuration(gpu, [tf.config.experimental.VirtualDeviceConfiguration(memory_limit=8192)])"
   ]
  },
  {
   "cell_type": "code",
   "execution_count": 6,
   "metadata": {
    "tags": [],
    "ExecuteTime": {
     "end_time": "2024-02-02T07:43:09.892004Z",
     "start_time": "2024-02-02T07:43:09.884864200Z"
    }
   },
   "outputs": [
    {
     "data": {
      "text/plain": "[PhysicalDevice(name='/physical_device:GPU:0', device_type='GPU')]"
     },
     "execution_count": 6,
     "metadata": {},
     "output_type": "execute_result"
    }
   ],
   "source": [
    "tf.config.list_physical_devices('GPU')"
   ]
  },
  {
   "cell_type": "markdown",
   "metadata": {},
   "source": [
    "# 3. Load and Scale Data"
   ]
  },
  {
   "cell_type": "code",
   "execution_count": 7,
   "metadata": {
    "ExecuteTime": {
     "end_time": "2024-02-02T07:43:10.322543900Z",
     "start_time": "2024-02-02T07:43:09.889896200Z"
    }
   },
   "outputs": [
    {
     "name": "stdout",
     "output_type": "stream",
     "text": [
      "Found 4671 files belonging to 2 classes.\n"
     ]
    }
   ],
   "source": [
    "data = tf.keras.utils.image_dataset_from_directory(data_dir, batch_size=batchsize, image_size=(imgsize, imgsize))"
   ]
  },
  {
   "cell_type": "code",
   "execution_count": 8,
   "metadata": {
    "ExecuteTime": {
     "end_time": "2024-02-02T07:43:10.343311100Z",
     "start_time": "2024-02-02T07:43:10.324504300Z"
    }
   },
   "outputs": [],
   "source": [
    "data = data.map(lambda x,y: (x/255, y))"
   ]
  },
  {
   "cell_type": "markdown",
   "source": [
    "# 4. Split Data"
   ],
   "metadata": {
    "collapsed": false
   }
  },
  {
   "cell_type": "code",
   "execution_count": 9,
   "metadata": {
    "collapsed": false,
    "ExecuteTime": {
     "end_time": "2024-02-02T07:43:10.344295300Z",
     "start_time": "2024-02-02T07:43:10.337821100Z"
    }
   },
   "outputs": [
    {
     "data": {
      "text/plain": "146"
     },
     "execution_count": 9,
     "metadata": {},
     "output_type": "execute_result"
    }
   ],
   "source": [
    "len(data)"
   ]
  },
  {
   "cell_type": "code",
   "execution_count": 10,
   "metadata": {
    "ExecuteTime": {
     "end_time": "2024-02-02T07:43:10.347225Z",
     "start_time": "2024-02-02T07:43:10.342787400Z"
    }
   },
   "outputs": [],
   "source": [
    "train_size = int(len(data)*.7)\n",
    "val_size = int(len(data)*.2)\n",
    "test_size = int(len(data)*.1)"
   ]
  },
  {
   "cell_type": "code",
   "outputs": [
    {
     "name": "stdout",
     "output_type": "stream",
     "text": [
      "Train size:  102\n",
      "Val size:  29\n",
      "Test size:  14\n",
      "Total size:  145\n"
     ]
    }
   ],
   "source": [
    "print(\"Train size: \", train_size)\n",
    "print(\"Val size: \", val_size)\n",
    "print(\"Test size: \", test_size)\n",
    "print(\"Total size: \", train_size+val_size+test_size)"
   ],
   "metadata": {
    "collapsed": false,
    "ExecuteTime": {
     "end_time": "2024-02-02T07:43:10.358561800Z",
     "start_time": "2024-02-02T07:43:10.346243600Z"
    }
   },
   "execution_count": 11
  },
  {
   "cell_type": "code",
   "execution_count": 12,
   "metadata": {
    "ExecuteTime": {
     "end_time": "2024-02-02T07:43:10.360069900Z",
     "start_time": "2024-02-02T07:43:10.350178900Z"
    }
   },
   "outputs": [],
   "source": [
    "train = data.take(train_size)\n",
    "val = data.skip(train_size).take(val_size)\n",
    "test = data.skip(train_size+val_size).take(test_size)"
   ]
  },
  {
   "cell_type": "code",
   "outputs": [],
   "source": [
    "# for images, labels in train.take(1):  # only take first element of dataset\n",
    "#     numpy_images = images.numpy()\n",
    "#     numpy_labels = labels.numpy()"
   ],
   "metadata": {
    "collapsed": false,
    "ExecuteTime": {
     "end_time": "2024-02-02T07:43:10.360069900Z",
     "start_time": "2024-02-02T07:43:10.355628300Z"
    }
   },
   "execution_count": 13
  },
  {
   "cell_type": "code",
   "outputs": [],
   "source": [
    "# numpy_images*255"
   ],
   "metadata": {
    "collapsed": false,
    "ExecuteTime": {
     "end_time": "2024-02-02T07:43:10.393205800Z",
     "start_time": "2024-02-02T07:43:10.360069900Z"
    }
   },
   "execution_count": 14
  },
  {
   "cell_type": "code",
   "outputs": [],
   "source": [
    "# index=32\n",
    "# plt.imshow(numpy_images[index])\n",
    "# plt.xlabel(numpy_labels[index])\n",
    "# plt.show()"
   ],
   "metadata": {
    "collapsed": false,
    "ExecuteTime": {
     "end_time": "2024-02-02T07:43:10.394709300Z",
     "start_time": "2024-02-02T07:43:10.363537200Z"
    }
   },
   "execution_count": 15
  },
  {
   "cell_type": "markdown",
   "metadata": {},
   "source": [
    "# 5. Build Deep Learning Model"
   ]
  },
  {
   "cell_type": "code",
   "execution_count": 16,
   "metadata": {
    "ExecuteTime": {
     "end_time": "2024-02-02T07:43:10.395240200Z",
     "start_time": "2024-02-02T07:43:10.367006300Z"
    }
   },
   "outputs": [],
   "source": [
    "from tensorflow.keras.models import Sequential\n",
    "from tensorflow.keras.layers import Conv2D, MaxPooling2D, Dense, Flatten, Dropout"
   ]
  },
  {
   "cell_type": "code",
   "outputs": [],
   "source": [
    "# function to determine rough model memory requirements\n",
    "def get_model_memory_usage(batch_size, model):\n",
    "    shapes_mem_count = 0\n",
    "    internal_model_mem_count = 0\n",
    "    for l in model.layers:\n",
    "        layer_type = l.__class__.__name__\n",
    "        if layer_type == 'Model':\n",
    "            internal_model_mem_count += get_model_memory_usage(batch_size, l)\n",
    "        single_layer_mem = 1\n",
    "        out_shape = l.output_shape\n",
    "        if type(out_shape) is list:\n",
    "            out_shape = out_shape[0]\n",
    "        for s in out_shape:\n",
    "            if s is None:\n",
    "                continue\n",
    "            single_layer_mem *= s\n",
    "        shapes_mem_count += single_layer_mem\n",
    "\n",
    "    trainable_count = np.sum([k.count_params(p) for p in model.trainable_weights])\n",
    "    non_trainable_count = np.sum([k.count_params(p) for p in model.non_trainable_weights])\n",
    "\n",
    "    number_size = 4.0\n",
    "    if k.floatx() == 'float16':\n",
    "        number_size = 2.0\n",
    "    if k.floatx() == 'float64':\n",
    "        number_size = 8.0\n",
    "\n",
    "    total_memory = number_size * (batch_size * shapes_mem_count + trainable_count + non_trainable_count)\n",
    "    gbytes = np.round(total_memory / (1024.0 ** 3), 3) + internal_model_mem_count\n",
    "    return gbytes"
   ],
   "metadata": {
    "collapsed": false,
    "ExecuteTime": {
     "end_time": "2024-02-02T07:43:10.396223600Z",
     "start_time": "2024-02-02T07:43:10.370951400Z"
    }
   },
   "execution_count": 17
  },
  {
   "cell_type": "code",
   "execution_count": 18,
   "metadata": {
    "ExecuteTime": {
     "end_time": "2024-02-02T07:43:10.397200100Z",
     "start_time": "2024-02-02T07:43:10.377367500Z"
    }
   },
   "outputs": [],
   "source": [
    "model = Sequential()"
   ]
  },
  {
   "cell_type": "code",
   "execution_count": 19,
   "metadata": {
    "ExecuteTime": {
     "end_time": "2024-02-02T07:43:10.496947100Z",
     "start_time": "2024-02-02T07:43:10.383315500Z"
    }
   },
   "outputs": [],
   "source": [
    "model.add(Conv2D(32, (5,5), 1, activation='relu', input_shape=(imgsize,imgsize,3)))\n",
    "model.add(MaxPooling2D())\n",
    "\n",
    "model.add(Conv2D(32, (3,3), 1, activation='relu'))\n",
    "model.add(MaxPooling2D())\n",
    "\n",
    "model.add(Conv2D(32, (3,3), 1, activation='relu'))\n",
    "model.add(MaxPooling2D())\n",
    "\n",
    "# model.add(Conv2D(256, (3,3), 1, activation='relu'))\n",
    "# model.add(MaxPooling2D())\n",
    "# \n",
    "model.add(Flatten())\n",
    "\n",
    "model.add(Dense(512, activation='relu'))\n",
    "model.add(Dropout(0.25))\n",
    "model.add(Dense(512, activation='relu'))\n",
    "model.add(Dense(1, activation='sigmoid'))"
   ]
  },
  {
   "cell_type": "code",
   "execution_count": 20,
   "metadata": {
    "ExecuteTime": {
     "end_time": "2024-02-02T07:43:10.509343900Z",
     "start_time": "2024-02-02T07:43:10.498449900Z"
    }
   },
   "outputs": [],
   "source": [
    "optimizer = tf.keras.optimizers.Adam(learning_rate=learning_rate, epsilon=epsilon)\n",
    "# optimizer = tf.keras.optimizers.Adam()\n",
    "model.compile(optimizer=optimizer, loss=tf.losses.BinaryCrossentropy(), metrics=['accuracy'])"
   ]
  },
  {
   "cell_type": "code",
   "execution_count": 21,
   "metadata": {
    "tags": [],
    "ExecuteTime": {
     "end_time": "2024-02-02T07:43:10.541377100Z",
     "start_time": "2024-02-02T07:43:10.505856700Z"
    }
   },
   "outputs": [
    {
     "name": "stdout",
     "output_type": "stream",
     "text": [
      "Model: \"sequential\"\n",
      "_________________________________________________________________\n",
      " Layer (type)                Output Shape              Param #   \n",
      "=================================================================\n",
      " conv2d (Conv2D)             (None, 746, 746, 32)      2432      \n",
      "                                                                 \n",
      " max_pooling2d (MaxPooling2D  (None, 373, 373, 32)     0         \n",
      " )                                                               \n",
      "                                                                 \n",
      " conv2d_1 (Conv2D)           (None, 371, 371, 32)      9248      \n",
      "                                                                 \n",
      " max_pooling2d_1 (MaxPooling  (None, 185, 185, 32)     0         \n",
      " 2D)                                                             \n",
      "                                                                 \n",
      " conv2d_2 (Conv2D)           (None, 183, 183, 32)      9248      \n",
      "                                                                 \n",
      " max_pooling2d_2 (MaxPooling  (None, 91, 91, 32)       0         \n",
      " 2D)                                                             \n",
      "                                                                 \n",
      " flatten (Flatten)           (None, 264992)            0         \n",
      "                                                                 \n",
      " dense (Dense)               (None, 512)               135676416 \n",
      "                                                                 \n",
      " dropout (Dropout)           (None, 512)               0         \n",
      "                                                                 \n",
      " dense_1 (Dense)             (None, 512)               262656    \n",
      "                                                                 \n",
      " dense_2 (Dense)             (None, 1)                 513       \n",
      "                                                                 \n",
      "=================================================================\n",
      "Total params: 135,960,513\n",
      "Trainable params: 135,960,513\n",
      "Non-trainable params: 0\n",
      "_________________________________________________________________\n"
     ]
    }
   ],
   "source": [
    "model.summary()"
   ]
  },
  {
   "cell_type": "code",
   "outputs": [
    {
     "data": {
      "text/plain": "4.007"
     },
     "execution_count": 22,
     "metadata": {},
     "output_type": "execute_result"
    }
   ],
   "source": [
    "# limit around 6GB???\n",
    "get_model_memory_usage(batchsize, model)"
   ],
   "metadata": {
    "collapsed": false,
    "ExecuteTime": {
     "end_time": "2024-02-02T07:43:10.542351900Z",
     "start_time": "2024-02-02T07:43:10.519700700Z"
    }
   },
   "execution_count": 22
  },
  {
   "cell_type": "markdown",
   "metadata": {},
   "source": [
    "# 6. Train"
   ]
  },
  {
   "cell_type": "code",
   "execution_count": 23,
   "metadata": {
    "ExecuteTime": {
     "end_time": "2024-02-02T07:43:10.544304800Z",
     "start_time": "2024-02-02T07:43:10.524130600Z"
    }
   },
   "outputs": [],
   "source": [
    "logdir='logs'\n",
    "tensorboard_callback = tf.keras.callbacks.TensorBoard(log_dir=logdir)"
   ]
  },
  {
   "cell_type": "code",
   "execution_count": 24,
   "metadata": {
    "scrolled": true,
    "tags": [],
    "ExecuteTime": {
     "end_time": "2024-02-02T07:47:35.701545300Z",
     "start_time": "2024-02-02T07:43:10.527059Z"
    }
   },
   "outputs": [
    {
     "name": "stdout",
     "output_type": "stream",
     "text": [
      "Epoch 1/7\n",
      "102/102 [==============================] - 37s 320ms/step - loss: 0.5370 - accuracy: 0.8686 - val_loss: 0.3029 - val_accuracy: 0.8696\n",
      "Epoch 2/7\n",
      "102/102 [==============================] - 34s 326ms/step - loss: 0.2260 - accuracy: 0.9243 - val_loss: 0.2109 - val_accuracy: 0.9246\n",
      "Epoch 3/7\n",
      "102/102 [==============================] - 35s 334ms/step - loss: 0.1184 - accuracy: 0.9599 - val_loss: 0.1862 - val_accuracy: 0.9256\n",
      "Epoch 4/7\n",
      "102/102 [==============================] - 38s 371ms/step - loss: 0.0645 - accuracy: 0.9789 - val_loss: 0.2580 - val_accuracy: 0.9300\n",
      "Epoch 5/7\n",
      "102/102 [==============================] - 39s 372ms/step - loss: 0.0271 - accuracy: 0.9902 - val_loss: 0.2410 - val_accuracy: 0.9364\n",
      "Epoch 6/7\n",
      "102/102 [==============================] - 39s 379ms/step - loss: 0.0117 - accuracy: 0.9979 - val_loss: 0.2654 - val_accuracy: 0.9440\n",
      "Epoch 7/7\n",
      "102/102 [==============================] - 41s 395ms/step - loss: 0.0114 - accuracy: 0.9969 - val_loss: 0.2620 - val_accuracy: 0.9440\n"
     ]
    }
   ],
   "source": [
    "hist = model.fit(train, epochs=epochs, validation_data=val, callbacks=[tensorboard_callback])"
   ]
  },
  {
   "cell_type": "markdown",
   "metadata": {},
   "source": [
    "# 7. Plot Performance"
   ]
  },
  {
   "cell_type": "code",
   "execution_count": 26,
   "metadata": {
    "ExecuteTime": {
     "end_time": "2024-02-02T07:47:35.800299700Z",
     "start_time": "2024-02-02T07:47:35.707436700Z"
    }
   },
   "outputs": [
    {
     "data": {
      "text/plain": "<Figure size 640x480 with 1 Axes>",
      "image/png": "[encoded data removed]"
     },
     "metadata": {},
     "output_type": "display_data"
    }
   ],
   "source": [
    "fig = plt.figure()\n",
    "plt.plot(hist.history['loss'], color='teal', label='loss')\n",
    "plt.plot(hist.history['val_loss'], color='orange', label='val_loss')\n",
    "plt.ylim(bottom=0)\n",
    "fig.suptitle('Loss', fontsize=20)\n",
    "plt.legend(loc=\"upper left\")\n",
    "plt.show()"
   ]
  },
  {
   "cell_type": "code",
   "execution_count": 27,
   "metadata": {
    "ExecuteTime": {
     "end_time": "2024-02-02T07:47:35.872559200Z",
     "start_time": "2024-02-02T07:47:35.792894800Z"
    }
   },
   "outputs": [
    {
     "data": {
      "text/plain": "<Figure size 640x480 with 1 Axes>",
      "image/png": "[encoded data removed]"
     },
     "metadata": {},
     "output_type": "display_data"
    }
   ],
   "source": [
    "fig = plt.figure()\n",
    "plt.plot(hist.history['accuracy'], color='teal', label='accuracy')\n",
    "plt.plot(hist.history['val_accuracy'], color='orange', label='val_accuracy')\n",
    "plt.ylim(0, 1)\n",
    "fig.suptitle('Accuracy', fontsize=20)\n",
    "plt.legend(loc=\"upper left\")\n",
    "plt.show()"
   ]
  },
  {
   "cell_type": "markdown",
   "metadata": {},
   "source": [
    "# 8. Evaluate"
   ]
  },
  {
   "cell_type": "code",
   "execution_count": 28,
   "metadata": {
    "ExecuteTime": {
     "end_time": "2024-02-02T07:47:35.872559200Z",
     "start_time": "2024-02-02T07:47:35.860685500Z"
    }
   },
   "outputs": [],
   "source": [
    "from tensorflow.keras.metrics import Precision, Recall, BinaryAccuracy"
   ]
  },
  {
   "cell_type": "code",
   "execution_count": 29,
   "metadata": {
    "ExecuteTime": {
     "end_time": "2024-02-02T07:47:35.875044500Z",
     "start_time": "2024-02-02T07:47:35.866592900Z"
    }
   },
   "outputs": [],
   "source": [
    "pre = Precision()\n",
    "re = Recall()\n",
    "acc = BinaryAccuracy()"
   ]
  },
  {
   "cell_type": "code",
   "execution_count": 30,
   "metadata": {
    "ExecuteTime": {
     "end_time": "2024-02-02T07:47:49.265525Z",
     "start_time": "2024-02-02T07:47:35.877033100Z"
    }
   },
   "outputs": [],
   "source": [
    "for batch in test.as_numpy_iterator(): \n",
    "    X, y = batch\n",
    "    yhat = model.predict(X)\n",
    "    pre.update_state(y, yhat)\n",
    "    re.update_state(y, yhat)\n",
    "    acc.update_state(y, yhat)"
   ]
  },
  {
   "cell_type": "code",
   "execution_count": 31,
   "metadata": {
    "ExecuteTime": {
     "end_time": "2024-02-02T07:47:49.287273900Z",
     "start_time": "2024-02-02T07:47:49.266497900Z"
    }
   },
   "outputs": [
    {
     "name": "stdout",
     "output_type": "stream",
     "text": [
      "-----------------------------------------------------\n",
      "Precision:        tf.Tensor(0.80701756, shape=(), dtype=float32)\n",
      "Recall:           tf.Tensor(0.5822785, shape=(), dtype=float32)\n",
      "Binary Accuracy:  tf.Tensor(0.90178573, shape=(), dtype=float32)\n",
      "-----------------------------------------------------\n"
     ]
    }
   ],
   "source": [
    "print(\"-----------------------------------------------------\")\n",
    "print(\"Precision:       \", pre.result())\n",
    "print(\"Recall:          \", re.result())\n",
    "print(\"Binary Accuracy: \", acc.result())\n",
    "print(\"-----------------------------------------------------\")"
   ]
  },
  {
   "cell_type": "markdown",
   "metadata": {},
   "source": [
    "# 9. Test"
   ]
  },
  {
   "cell_type": "code",
   "execution_count": 32,
   "metadata": {
    "collapsed": false,
    "ExecuteTime": {
     "end_time": "2024-02-02T07:47:49.591664600Z",
     "start_time": "2024-02-02T07:47:49.282353900Z"
    }
   },
   "outputs": [],
   "source": [
    "img01 = cv2.imread(data_dir + '/_000/_0-01.jpg')\n",
    "img02 = cv2.imread(data_dir + '/_000/_0-02.jpg')\n",
    "img03 = cv2.imread(data_dir + '/_000/_0-03.jpg')\n",
    "img04 = cv2.imread(data_dir + '/_000/_0-04.jpg')\n",
    "img05 = cv2.imread(data_dir + '/_000/_0-05.jpg')\n",
    "\n",
    "img11 = cv2.imread(data_dir + '/_FAPT/_F-01.jpg')\n",
    "img12 = cv2.imread(data_dir + '/_FAPT/_F-02.jpg')\n",
    "img13 = cv2.imread(data_dir + '/_FAPT/_F-03.jpg')\n",
    "img14 = cv2.imread(data_dir + '/_FAPT/_F-04.jpg')\n",
    "img15 = cv2.imread(data_dir + '/_FAPT/_F-05.jpg')\n",
    "\n",
    "imgT01 = cv2.imread('test/_T-01.jpg')\n",
    "imgT02 = cv2.imread('test/_T-02.jpg')\n",
    "imgT13 = cv2.imread('test/_T-03.jpg')\n",
    "imgT14 = cv2.imread('test/_T-04.jpg')\n",
    "imgT15 = cv2.imread('test/_T-05.jpg')"
   ]
  },
  {
   "cell_type": "code",
   "outputs": [
    {
     "name": "stdout",
     "output_type": "stream",
     "text": [
      "(2000, 3000, 3)\n"
     ]
    }
   ],
   "source": [
    "print(img01.shape)\n",
    "#plt.imshow(cv2.cvtColor(img01, cv2.COLOR_BGR2RGB))\n",
    "#plt.show()"
   ],
   "metadata": {
    "ExecuteTime": {
     "end_time": "2024-02-02T07:50:45.199406400Z",
     "start_time": "2024-02-02T07:50:45.193471Z"
    }
   },
   "execution_count": 43
  },
  {
   "cell_type": "code",
   "execution_count": 34,
   "metadata": {
    "collapsed": false,
    "ExecuteTime": {
     "end_time": "2024-02-02T07:47:50.071467400Z",
     "start_time": "2024-02-02T07:47:49.954850Z"
    }
   },
   "outputs": [],
   "source": [
    "resize01 = tf.image.resize(img01, (imgsize,imgsize))\n",
    "resize02 = tf.image.resize(img02, (imgsize,imgsize))\n",
    "resize03 = tf.image.resize(img03, (imgsize,imgsize))\n",
    "resize04 = tf.image.resize(img04, (imgsize,imgsize))\n",
    "resize05 = tf.image.resize(img05, (imgsize,imgsize))\n",
    "\n",
    "resize11 = tf.image.resize(img11, (imgsize,imgsize))\n",
    "resize12 = tf.image.resize(img12, (imgsize,imgsize))\n",
    "resize13 = tf.image.resize(img13, (imgsize,imgsize))\n",
    "resize14 = tf.image.resize(img14, (imgsize,imgsize))\n",
    "resize15 = tf.image.resize(img15, (imgsize,imgsize))\n",
    "\n",
    "resizeT01 = tf.image.resize(imgT01, (imgsize,imgsize))\n",
    "resizeT02 = tf.image.resize(imgT02, (imgsize,imgsize))\n",
    "resizeT13 = tf.image.resize(imgT13, (imgsize,imgsize))\n",
    "resizeT14 = tf.image.resize(imgT14, (imgsize,imgsize))\n",
    "resizeT15 = tf.image.resize(imgT15, (imgsize,imgsize))"
   ]
  },
  {
   "cell_type": "code",
   "outputs": [
    {
     "name": "stdout",
     "output_type": "stream",
     "text": [
      "(750, 750, 3)\n"
     ]
    }
   ],
   "source": [
    "print(resize01.shape)\n",
    "#plt.imshow(cv2.cvtColor(resize01.numpy().astype(np.uint16), cv2.COLOR_BGR2RGB))\n",
    "#plt.show()"
   ],
   "metadata": {
    "ExecuteTime": {
     "end_time": "2024-02-02T07:50:52.407756200Z",
     "start_time": "2024-02-02T07:50:52.401810700Z"
    }
   },
   "execution_count": 44
  },
  {
   "cell_type": "code",
   "execution_count": 36,
   "metadata": {
    "ExecuteTime": {
     "end_time": "2024-02-02T07:47:50.694325700Z",
     "start_time": "2024-02-02T07:47:50.196215300Z"
    }
   },
   "outputs": [],
   "source": [
    "yhat01 = model.predict(np.expand_dims(resize01/255, 0))[0][0]\n",
    "yhat02 = model.predict(np.expand_dims(resize02/255, 0))[0][0]\n",
    "yhat03 = model.predict(np.expand_dims(resize03/255, 0))[0][0]\n",
    "yhat04 = model.predict(np.expand_dims(resize04/255, 0))[0][0]\n",
    "yhat05 = model.predict(np.expand_dims(resize05/255, 0))[0][0]\n",
    "\n",
    "yhat11 = model.predict(np.expand_dims(resize11/255, 0))[0][0]\n",
    "yhat12 = model.predict(np.expand_dims(resize12/255, 0))[0][0]\n",
    "yhat13 = model.predict(np.expand_dims(resize13/255, 0))[0][0]\n",
    "yhat14 = model.predict(np.expand_dims(resize14/255, 0))[0][0]\n",
    "yhat15 = model.predict(np.expand_dims(resize15/255, 0))[0][0]\n",
    "\n",
    "yhatT01 = model.predict(np.expand_dims(resizeT01/255, 0))[0][0]\n",
    "yhatT02 = model.predict(np.expand_dims(resizeT02/255, 0))[0][0]\n",
    "yhatT13 = model.predict(np.expand_dims(resizeT13/255, 0))[0][0]\n",
    "yhatT14 = model.predict(np.expand_dims(resizeT14/255, 0))[0][0]\n",
    "yhatT15 = model.predict(np.expand_dims(resizeT15/255, 0))[0][0]"
   ]
  },
  {
   "cell_type": "code",
   "execution_count": 37,
   "metadata": {
    "collapsed": false,
    "ExecuteTime": {
     "end_time": "2024-02-02T07:47:50.705675100Z",
     "start_time": "2024-02-02T07:47:50.697259500Z"
    }
   },
   "outputs": [
    {
     "name": "stdout",
     "output_type": "stream",
     "text": [
      "0.00035030482  - Verify 0.0\n",
      "0.00039280887  - Verify 0.0\n",
      "0.00000018917  - Verify 0.0\n",
      "0.00026820807  - Verify 0.0\n",
      "0.00000000106  - Verify 0.0\n",
      "------------------------\n",
      "0.99999952316  - Verify 1.0\n",
      "0.99998223782  - Verify 1.0\n",
      "0.99998486042  - Verify 1.0\n",
      "0.00371354050  - Verify 1.0\n",
      "0.99353712797  - Verify 1.0\n",
      "------------------------\n",
      "0.09679982811  - Want 0.0\n",
      "0.00000021690  - Want 0.0\n",
      "0.02131801099  - Want 1.0\n",
      "0.00877881795  - Want 1.0\n",
      "0.73218125105  - Want 1.0\n"
     ]
    }
   ],
   "source": [
    "print(\"{:.11f}\".format(yhat01), \" - Verify 0.0\")\n",
    "print(\"{:.11f}\".format(yhat02), \" - Verify 0.0\")\n",
    "print(\"{:.11f}\".format(yhat03), \" - Verify 0.0\")\n",
    "print(\"{:.11f}\".format(yhat04), \" - Verify 0.0\")\n",
    "print(\"{:.11f}\".format(yhat05), \" - Verify 0.0\")\n",
    "print(\"------------------------\")\n",
    "print(\"{:.11f}\".format(yhat11), \" - Verify 1.0\")\n",
    "print(\"{:.11f}\".format(yhat12), \" - Verify 1.0\")\n",
    "print(\"{:.11f}\".format(yhat13), \" - Verify 1.0\")\n",
    "print(\"{:.11f}\".format(yhat14), \" - Verify 1.0\")\n",
    "print(\"{:.11f}\".format(yhat15), \" - Verify 1.0\")\n",
    "print(\"------------------------\")\n",
    "print(\"{:.11f}\".format(yhatT01), \" - Want 0.0\")\n",
    "print(\"{:.11f}\".format(yhatT02), \" - Want 0.0\")\n",
    "print(\"{:.11f}\".format(yhatT13), \" - Want 1.0\")\n",
    "print(\"{:.11f}\".format(yhatT14), \" - Want 1.0\")\n",
    "print(\"{:.11f}\".format(yhatT15), \" - Want 1.0\")"
   ]
  },
  {
   "cell_type": "markdown",
   "metadata": {},
   "source": [
    "# 11. Save the Model"
   ]
  },
  {
   "cell_type": "code",
   "execution_count": 38,
   "metadata": {
    "ExecuteTime": {
     "end_time": "2024-02-02T07:47:50.705675100Z",
     "start_time": "2024-02-02T07:47:50.699237800Z"
    }
   },
   "outputs": [],
   "source": [
    "from tensorflow.keras.models import load_model"
   ]
  },
  {
   "cell_type": "code",
   "execution_count": 39,
   "metadata": {
    "ExecuteTime": {
     "end_time": "2024-02-02T07:47:59.969729900Z",
     "start_time": "2024-02-02T07:47:50.704694100Z"
    }
   },
   "outputs": [],
   "source": [
    "model.save(os.path.join('models','imageclassifier.h5'))"
   ]
  },
  {
   "cell_type": "code",
   "execution_count": 40,
   "metadata": {
    "ExecuteTime": {
     "end_time": "2024-02-02T07:48:01.791660800Z",
     "start_time": "2024-02-02T07:47:59.971220Z"
    }
   },
   "outputs": [],
   "source": [
    "new_model = load_model(os.path.join('models', 'imageclassifier.h5'))"
   ]
  },
  {
   "cell_type": "code",
   "execution_count": 41,
   "metadata": {
    "ExecuteTime": {
     "end_time": "2024-02-02T07:48:02.137781200Z",
     "start_time": "2024-02-02T07:48:01.792641300Z"
    }
   },
   "outputs": [
    {
     "ename": "NameError",
     "evalue": "name 'resize0' is not defined",
     "output_type": "error",
     "traceback": [
      "\u001B[1;31m---------------------------------------------------------------------------\u001B[0m",
      "\u001B[1;31mNameError\u001B[0m                                 Traceback (most recent call last)",
      "Cell \u001B[1;32mIn[41], line 1\u001B[0m\n\u001B[1;32m----> 1\u001B[0m yhatnew \u001B[38;5;241m=\u001B[39m new_model\u001B[38;5;241m.\u001B[39mpredict(np\u001B[38;5;241m.\u001B[39mexpand_dims(\u001B[43mresize0\u001B[49m\u001B[38;5;241m/\u001B[39m\u001B[38;5;241m255\u001B[39m, \u001B[38;5;241m0\u001B[39m))\n",
      "\u001B[1;31mNameError\u001B[0m: name 'resize0' is not defined"
     ]
    }
   ],
   "source": [
    "yhatnew = new_model.predict(np.expand_dims(resize0/255, 0))"
   ]
  },
  {
   "cell_type": "code",
   "execution_count": null,
   "metadata": {
    "collapsed": false,
    "ExecuteTime": {
     "start_time": "2024-02-02T07:48:02.128380900Z"
    }
   },
   "outputs": [],
   "source": [
    "yhatnew"
   ]
  },
  {
   "cell_type": "markdown",
   "metadata": {
    "collapsed": false
   },
   "source": [
    "# 12. Release Memory"
   ]
  },
  {
   "cell_type": "code",
   "execution_count": null,
   "metadata": {
    "collapsed": false,
    "ExecuteTime": {
     "start_time": "2024-02-02T07:48:02.130364400Z"
    }
   },
   "outputs": [],
   "source": [
    "# from keras import backend as kbe\n",
    "# kbe.clear_session()"
   ]
  },
  {
   "cell_type": "code",
   "execution_count": null,
   "metadata": {
    "collapsed": false,
    "ExecuteTime": {
     "start_time": "2024-02-02T07:48:02.131379300Z"
    }
   },
   "outputs": [],
   "source": [
    "# from numba import cuda\n",
    "# cuda.select_device(0)\n",
    "# cuda.close()"
   ]
  }
 ],
 "metadata": {
  "kernelspec": {
   "display_name": "Python 3 (ipykernel)",
   "language": "python",
   "name": "python3"
  },
  "language_info": {
   "codemirror_mode": {
    "name": "ipython",
    "version": 3
   },
   "file_extension": ".py",
   "mimetype": "text/x-python",
   "name": "python",
   "nbconvert_exporter": "python",
   "pygments_lexer": "ipython3",
   "version": "3.9.13"
  }
 },
 "nbformat": 4,
 "nbformat_minor": 4
}
